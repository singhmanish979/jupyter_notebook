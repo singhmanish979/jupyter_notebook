{
 "cells": [
  {
   "cell_type": "code",
   "execution_count": 1,
   "metadata": {},
   "outputs": [],
   "source": [
    "import matplotlib.pyplot as plt\n",
    "import numpy as np\n",
    "import pandas as pd\n",
    "import tqdm\n",
    "import random\n",
    "import os\n",
    "\n",
    "from sklearn.preprocessing import StandardScaler\n",
    "from sklearn.model_selection import train_test_split\n",
    "from sklearn.metrics import mean_absolute_error\n",
    "\n",
    "import tensorflow as tf\n",
    "from tensorflow.keras.models import *\n",
    "from tensorflow.keras.layers import *\n",
    "from tensorflow.keras import backend as K"
   ]
  },
  {
   "cell_type": "code",
   "execution_count": 2,
   "metadata": {},
   "outputs": [
    {
     "name": "stdout",
     "output_type": "stream",
     "text": [
      "(18249, 13)\n"
     ]
    },
    {
     "data": {
      "text/html": [
       "<div>\n",
       "<style scoped>\n",
       "    .dataframe tbody tr th:only-of-type {\n",
       "        vertical-align: middle;\n",
       "    }\n",
       "\n",
       "    .dataframe tbody tr th {\n",
       "        vertical-align: top;\n",
       "    }\n",
       "\n",
       "    .dataframe thead th {\n",
       "        text-align: right;\n",
       "    }\n",
       "</style>\n",
       "<table border=\"1\" class=\"dataframe\">\n",
       "  <thead>\n",
       "    <tr style=\"text-align: right;\">\n",
       "      <th></th>\n",
       "      <th>Date</th>\n",
       "      <th>AveragePrice</th>\n",
       "      <th>Total Volume</th>\n",
       "      <th>4046</th>\n",
       "      <th>4225</th>\n",
       "      <th>4770</th>\n",
       "      <th>Total Bags</th>\n",
       "      <th>Small Bags</th>\n",
       "      <th>Large Bags</th>\n",
       "      <th>XLarge Bags</th>\n",
       "      <th>type</th>\n",
       "      <th>year</th>\n",
       "      <th>region</th>\n",
       "    </tr>\n",
       "  </thead>\n",
       "  <tbody>\n",
       "    <tr>\n",
       "      <td>0</td>\n",
       "      <td>2015-12-27</td>\n",
       "      <td>1.33</td>\n",
       "      <td>64236.62</td>\n",
       "      <td>1036.74</td>\n",
       "      <td>54454.85</td>\n",
       "      <td>48.16</td>\n",
       "      <td>8696.87</td>\n",
       "      <td>8603.62</td>\n",
       "      <td>93.25</td>\n",
       "      <td>0.0</td>\n",
       "      <td>conventional</td>\n",
       "      <td>2015</td>\n",
       "      <td>Albany</td>\n",
       "    </tr>\n",
       "    <tr>\n",
       "      <td>1</td>\n",
       "      <td>2015-12-20</td>\n",
       "      <td>1.35</td>\n",
       "      <td>54876.98</td>\n",
       "      <td>674.28</td>\n",
       "      <td>44638.81</td>\n",
       "      <td>58.33</td>\n",
       "      <td>9505.56</td>\n",
       "      <td>9408.07</td>\n",
       "      <td>97.49</td>\n",
       "      <td>0.0</td>\n",
       "      <td>conventional</td>\n",
       "      <td>2015</td>\n",
       "      <td>Albany</td>\n",
       "    </tr>\n",
       "    <tr>\n",
       "      <td>2</td>\n",
       "      <td>2015-12-13</td>\n",
       "      <td>0.93</td>\n",
       "      <td>118220.22</td>\n",
       "      <td>794.70</td>\n",
       "      <td>109149.67</td>\n",
       "      <td>130.50</td>\n",
       "      <td>8145.35</td>\n",
       "      <td>8042.21</td>\n",
       "      <td>103.14</td>\n",
       "      <td>0.0</td>\n",
       "      <td>conventional</td>\n",
       "      <td>2015</td>\n",
       "      <td>Albany</td>\n",
       "    </tr>\n",
       "    <tr>\n",
       "      <td>3</td>\n",
       "      <td>2015-12-06</td>\n",
       "      <td>1.08</td>\n",
       "      <td>78992.15</td>\n",
       "      <td>1132.00</td>\n",
       "      <td>71976.41</td>\n",
       "      <td>72.58</td>\n",
       "      <td>5811.16</td>\n",
       "      <td>5677.40</td>\n",
       "      <td>133.76</td>\n",
       "      <td>0.0</td>\n",
       "      <td>conventional</td>\n",
       "      <td>2015</td>\n",
       "      <td>Albany</td>\n",
       "    </tr>\n",
       "    <tr>\n",
       "      <td>4</td>\n",
       "      <td>2015-11-29</td>\n",
       "      <td>1.28</td>\n",
       "      <td>51039.60</td>\n",
       "      <td>941.48</td>\n",
       "      <td>43838.39</td>\n",
       "      <td>75.78</td>\n",
       "      <td>6183.95</td>\n",
       "      <td>5986.26</td>\n",
       "      <td>197.69</td>\n",
       "      <td>0.0</td>\n",
       "      <td>conventional</td>\n",
       "      <td>2015</td>\n",
       "      <td>Albany</td>\n",
       "    </tr>\n",
       "  </tbody>\n",
       "</table>\n",
       "</div>"
      ],
      "text/plain": [
       "         Date  AveragePrice  Total Volume     4046       4225    4770  \\\n",
       "0  2015-12-27          1.33      64236.62  1036.74   54454.85   48.16   \n",
       "1  2015-12-20          1.35      54876.98   674.28   44638.81   58.33   \n",
       "2  2015-12-13          0.93     118220.22   794.70  109149.67  130.50   \n",
       "3  2015-12-06          1.08      78992.15  1132.00   71976.41   72.58   \n",
       "4  2015-11-29          1.28      51039.60   941.48   43838.39   75.78   \n",
       "\n",
       "   Total Bags  Small Bags  Large Bags  XLarge Bags          type  year  region  \n",
       "0     8696.87     8603.62       93.25          0.0  conventional  2015  Albany  \n",
       "1     9505.56     9408.07       97.49          0.0  conventional  2015  Albany  \n",
       "2     8145.35     8042.21      103.14          0.0  conventional  2015  Albany  \n",
       "3     5811.16     5677.40      133.76          0.0  conventional  2015  Albany  \n",
       "4     6183.95     5986.26      197.69          0.0  conventional  2015  Albany  "
      ]
     },
     "execution_count": 2,
     "metadata": {},
     "output_type": "execute_result"
    }
   ],
   "source": [
    "### READ DATASET ###\n",
    "df = pd.read_csv('./avocado.csv',index_col=0)\n",
    "print(df.shape)\n",
    "df.head()"
   ]
  },
  {
   "cell_type": "code",
   "execution_count": 3,
   "metadata": {},
   "outputs": [],
   "source": [
    "### PLOT SERIES FOR SINGLE MARKET OF SELECTED AVOCADO TYPE ###\n",
    "def plot_seris(county, typ):\n",
    "    \n",
    "    plt.figure(figsize=(9,6))\n",
    "    reg_train = df[(df['type']==typ)&(df['year']!=2018)].groupby('region')\n",
    "    p_train = reg_train.get_group(county)[['Date', 'AveragePrice']].reset_index(drop=True)\n",
    "    plt.plot(range(0,len(p_train)), p_train.AveragePrice.values)\n",
    "    \n",
    "    reg_test = df[(df['type']==typ)&(df['year']==2018)].groupby('region')\n",
    "    p_test = reg_test.get_group(county)[['Date', 'AveragePrice']].reset_index(drop=True)\n",
    "    plt.plot(range(len(p_train),len(p_train)+len(p_test)),p_test.AveragePrice.values)\n",
    "    plt.title('AveragePrice'+' '+typ.upper()+' '+county)\n",
    "    plt.show()"
   ]
  },
  {
   "cell_type": "code",
   "execution_count": 4,
   "metadata": {},
   "outputs": [
    {
     "data": {
      "image/png": "[encoded data removed]",
      "text/plain": [
       "<Figure size 648x432 with 1 Axes>"
      ]
     },
     "metadata": {
      "needs_background": "light"
     },
     "output_type": "display_data"
    }
   ],
   "source": [
    "plot_seris('NewYork','conventional')"
   ]
  },
  {
   "cell_type": "code",
   "execution_count": null,
   "metadata": {},
   "outputs": [],
   "source": []
  },
  {
   "cell_type": "code",
   "execution_count": 5,
   "metadata": {},
   "outputs": [],
   "source": [
    "### CREATE GENERATOR FOR LSTM WINDOWS AND LABELS ###\n",
    "sequence_length = 4\n",
    "\n",
    "def gen_sequence(id_df, seq_length, seq_cols):\n",
    "\n",
    "    data_matrix = id_df[seq_cols].values\n",
    "    num_elements = data_matrix.shape[0]\n",
    "\n",
    "    for start, stop in zip(range(0, num_elements-seq_length), range(seq_length, num_elements)):\n",
    "        yield data_matrix[start:stop, :]\n",
    "\n",
    "def gen_labels(id_df, seq_length, label):\n",
    "\n",
    "    data_matrix = id_df[label].values\n",
    "    num_elements = data_matrix.shape[0]\n",
    "\n",
    "    return data_matrix[seq_length:num_elements, :]"
   ]
  },
  {
   "cell_type": "code",
   "execution_count": 6,
   "metadata": {},
   "outputs": [],
   "source": [
    "### CREATE TRAIN/TEST PRICE DATA ###\n",
    "X_train_c, X_train_o = [], []\n",
    "X_test_c, X_test_o = [], []\n",
    "X_other_train_c, X_other_train_o = [], []\n",
    "X_other_test_c, X_other_test_o = [], []\n",
    "\n",
    "for county in df[\"region\"].unique():\n",
    "    \n",
    "    for sequence in gen_sequence(df[(df[\"region\"]==county)&(df[\"type\"]==\"conventional\")&(df[\"year\"]!=2018)], \n",
    "                                 sequence_length, ['AveragePrice']):\n",
    "        X_train_c.append(sequence) if county != 'Albany' else X_other_train_c.append(sequence)\n",
    "        \n",
    "    for sequence in gen_sequence(df[(df[\"region\"]==county)&(df[\"type\"]==\"organic\")&(df[\"year\"]!=2018)], \n",
    "                                 sequence_length, ['AveragePrice']):\n",
    "        X_train_o.append(sequence) if county != 'Albany' else X_other_train_o.append(sequence)\n",
    "        \n",
    "    for sequence in gen_sequence(df[(df[\"region\"]==county)&(df[\"type\"]==\"conventional\")&(df[\"year\"]==2018)], \n",
    "                                 sequence_length, ['AveragePrice']):\n",
    "        X_test_c.append(sequence) if county != 'Albany' else X_other_test_c.append(sequence)\n",
    "        \n",
    "    for sequence in gen_sequence(df[(df[\"region\"]==county)&(df[\"type\"]==\"organic\")&(df[\"year\"]==2018)], \n",
    "                                 sequence_length, ['AveragePrice']):\n",
    "        X_test_o.append(sequence) if county != 'Albany' else X_other_test_o.append(sequence)\n",
    "    \n",
    "X_train_c, X_train_o = np.asarray(X_train_c), np.asarray(X_train_o)\n",
    "X_test_c, X_test_o = np.asarray(X_test_c), np.asarray(X_test_o)\n",
    "X_other_train_c, X_other_train_o = np.asarray(X_other_train_c), np.asarray(X_other_train_o)\n",
    "X_other_test_c, X_other_test_o = np.asarray(X_other_test_c), np.asarray(X_other_test_o)"
   ]
  },
  {
   "cell_type": "code",
   "execution_count": 7,
   "metadata": {},
   "outputs": [],
   "source": [
    "### CREATE TRAIN/TEST LABEL ###\n",
    "y_train_c, y_train_o = [], []\n",
    "y_test_c, y_test_o = [], []\n",
    "y_other_train_c, y_other_train_o = [], []\n",
    "y_other_test_c, y_other_test_o = [], []\n",
    "\n",
    "for county in df[\"region\"].unique():\n",
    "    \n",
    "    for sequence in gen_labels(df[(df[\"region\"]==county)&(df[\"type\"]==\"conventional\")&(df[\"year\"]!=2018)], \n",
    "                               sequence_length, ['AveragePrice']):\n",
    "        y_train_c.append(sequence) if county != 'Albany' else y_other_train_c.append(sequence)\n",
    "        \n",
    "    for sequence in gen_labels(df[(df[\"region\"]==county)&(df[\"type\"]==\"organic\")&(df[\"year\"]!=2018)], \n",
    "                               sequence_length, ['AveragePrice']):\n",
    "        y_train_o.append(sequence) if county != 'Albany' else y_other_train_o.append(sequence)\n",
    "        \n",
    "    for sequence in gen_labels(df[(df[\"region\"]==county)&(df[\"type\"]==\"conventional\")&(df[\"year\"]==2018)],\n",
    "                               sequence_length, ['AveragePrice']):\n",
    "        y_test_c.append(sequence) if county != 'Albany' else y_other_test_c.append(sequence)\n",
    "        \n",
    "    for sequence in gen_labels(df[(df[\"region\"]==county)&(df[\"type\"]==\"organic\")&(df[\"year\"]==2018)],\n",
    "                               sequence_length, ['AveragePrice']):\n",
    "        y_test_o.append(sequence) if county != 'Albany' else y_other_test_o.append(sequence)\n",
    "\n",
    "y_train_c, y_train_o = np.asarray(y_train_c), np.asarray(y_train_o)\n",
    "y_test_c, y_test_o = np.asarray(y_test_c), np.asarray(y_test_o)\n",
    "y_other_train_c, y_other_train_o = np.asarray(y_other_train_c), np.asarray(y_other_train_o)\n",
    "y_other_test_c, y_other_test_o = np.asarray(y_other_test_c), np.asarray(y_other_test_o)"
   ]
  },
  {
   "cell_type": "code",
   "execution_count": 8,
   "metadata": {},
   "outputs": [
    {
     "name": "stdout",
     "output_type": "stream",
     "text": [
      "(17063, 4, 1) (17063, 1)\n"
     ]
    }
   ],
   "source": [
    "### CONCATENATE TRAIN/TEST DATA AND LABEL ### \n",
    "X = np.concatenate([X_train_c,X_train_o,X_test_c,X_test_o],axis=0)\n",
    "y = np.concatenate([y_train_c,y_train_o,y_test_c,y_test_o],axis=0)\n",
    "\n",
    "print(X.shape,y.shape)"
   ]
  },
  {
   "cell_type": "code",
   "execution_count": 9,
   "metadata": {},
   "outputs": [],
   "source": [
    "### CREATE TRAIN/TEST EXTERNAL FEATURES ###\n",
    "col = ['Total Volume','4046','4225','4770','Total Bags','Small Bags','Large Bags','XLarge Bags']\n",
    "\n",
    "f_train_c, f_train_o = [], []\n",
    "f_test_c, f_test_o = [], []\n",
    "f_other_train_c, f_other_train_o = [], []\n",
    "f_other_test_c, f_other_test_o = [], []\n",
    "\n",
    "for county in df[\"region\"].unique():\n",
    "    \n",
    "    for sequence in gen_sequence(df[(df[\"region\"]==county)&(df[\"type\"]==\"conventional\")&(df[\"year\"]!=2018)], \n",
    "                                 sequence_length, col):\n",
    "        f_train_c.append(sequence) if county != 'Albany' else f_other_train_c.append(sequence)\n",
    "        \n",
    "    for sequence in gen_sequence(df[(df[\"region\"]==county)&(df[\"type\"]==\"organic\")&(df[\"year\"]!=2018)], \n",
    "                                 sequence_length, col):\n",
    "        f_train_o.append(sequence) if county != 'Albany' else f_other_train_o.append(sequence)\n",
    "        \n",
    "    for sequence in gen_sequence(df[(df[\"region\"]==county)&(df[\"type\"]==\"conventional\")&(df[\"year\"]==2018)],\n",
    "                                 sequence_length, col):\n",
    "        f_test_c.append(sequence) if county != 'Albany' else f_other_test_c.append(sequence)\n",
    "        \n",
    "    for sequence in gen_sequence(df[(df[\"region\"]==county)&(df[\"type\"]==\"organic\")&(df[\"year\"]==2018)],\n",
    "                                 sequence_length, col):\n",
    "        f_test_o.append(sequence) if county != 'Albany' else f_other_test_o.append(sequence)\n",
    "    \n",
    "f_train_c, f_train_o = np.asarray(f_train_c), np.asarray(f_train_o)\n",
    "f_test_c, f_test_o = np.asarray(f_test_c), np.asarray(f_test_o)\n",
    "f_other_train_c, f_other_train_o = np.asarray(f_other_train_c), np.asarray(f_other_train_o)\n",
    "f_other_test_c, f_other_test_o = np.asarray(f_other_test_c), np.asarray(f_other_test_o)"
   ]
  },
  {
   "cell_type": "code",
   "execution_count": 10,
   "metadata": {},
   "outputs": [
    {
     "name": "stdout",
     "output_type": "stream",
     "text": [
      "(17063, 4, 8)\n"
     ]
    }
   ],
   "source": [
    "### CONCATENATE TRAIN/TEST EXTERNAL FEATURES ###\n",
    "F = np.concatenate([f_train_c,f_train_o,f_test_c,f_test_o],axis=0)\n",
    "\n",
    "print(F.shape)"
   ]
  },
  {
   "cell_type": "code",
   "execution_count": null,
   "metadata": {},
   "outputs": [],
   "source": []
  },
  {
   "cell_type": "markdown",
   "metadata": {},
   "source": [
    "# FORECASTER + AUTOENCODER"
   ]
  },
  {
   "cell_type": "code",
   "execution_count": 11,
   "metadata": {},
   "outputs": [
    {
     "name": "stdout",
     "output_type": "stream",
     "text": [
      "Train on 16215 samples\n",
      "Epoch 1/100\n",
      "16215/16215 - 7s - loss: 0.5323 - mse: 0.5323\n",
      "Epoch 2/100\n",
      "16215/16215 - 1s - loss: 0.1501 - mse: 0.1501\n",
      "Epoch 3/100\n",
      "16215/16215 - 2s - loss: 0.1098 - mse: 0.1098\n",
      "Epoch 4/100\n",
      "16215/16215 - 2s - loss: 0.0731 - mse: 0.0731\n",
      "Epoch 5/100\n",
      "16215/16215 - 2s - loss: 0.0542 - mse: 0.0542\n",
      "Epoch 6/100\n",
      "16215/16215 - 2s - loss: 0.0454 - mse: 0.0454\n",
      "Epoch 7/100\n",
      "16215/16215 - 2s - loss: 0.0427 - mse: 0.0427\n",
      "Epoch 8/100\n",
      "16215/16215 - 2s - loss: 0.0383 - mse: 0.0383\n",
      "Epoch 9/100\n",
      "16215/16215 - 2s - loss: 0.0350 - mse: 0.0350\n",
      "Epoch 10/100\n",
      "16215/16215 - 2s - loss: 0.0334 - mse: 0.0334\n",
      "Epoch 11/100\n",
      "16215/16215 - 2s - loss: 0.0322 - mse: 0.0322\n",
      "Epoch 12/100\n",
      "16215/16215 - 2s - loss: 0.0317 - mse: 0.0317\n",
      "Epoch 13/100\n",
      "16215/16215 - 2s - loss: 0.0305 - mse: 0.0305\n",
      "Epoch 14/100\n",
      "16215/16215 - 2s - loss: 0.0303 - mse: 0.0303\n",
      "Epoch 15/100\n",
      "16215/16215 - 2s - loss: 0.0294 - mse: 0.0294\n",
      "Epoch 16/100\n",
      "16215/16215 - 2s - loss: 0.0292 - mse: 0.0292\n",
      "Epoch 17/100\n",
      "16215/16215 - 2s - loss: 0.0289 - mse: 0.0289\n",
      "Epoch 18/100\n",
      "16215/16215 - 2s - loss: 0.0281 - mse: 0.0281\n",
      "Epoch 19/100\n",
      "16215/16215 - 2s - loss: 0.0280 - mse: 0.0280\n",
      "Epoch 20/100\n",
      "16215/16215 - 2s - loss: 0.0278 - mse: 0.0278\n",
      "Epoch 21/100\n",
      "16215/16215 - 1s - loss: 0.0274 - mse: 0.0274\n",
      "Epoch 22/100\n",
      "16215/16215 - 2s - loss: 0.0274 - mse: 0.0274\n",
      "Epoch 23/100\n",
      "16215/16215 - 2s - loss: 0.0269 - mse: 0.0269\n",
      "Epoch 24/100\n",
      "16215/16215 - 2s - loss: 0.0279 - mse: 0.0279\n",
      "Epoch 25/100\n",
      "16215/16215 - 2s - loss: 0.0271 - mse: 0.0271\n",
      "Epoch 26/100\n",
      "16215/16215 - 2s - loss: 0.0265 - mse: 0.0265\n",
      "Epoch 27/100\n",
      "16215/16215 - 2s - loss: 0.0257 - mse: 0.0257\n",
      "Epoch 28/100\n",
      "16215/16215 - 2s - loss: 0.0267 - mse: 0.0267\n",
      "Epoch 29/100\n",
      "16215/16215 - 2s - loss: 0.0263 - mse: 0.0263\n",
      "Epoch 30/100\n",
      "16215/16215 - 2s - loss: 0.0263 - mse: 0.0263\n",
      "Epoch 31/100\n",
      "16215/16215 - 2s - loss: 0.0266 - mse: 0.0266\n",
      "Epoch 32/100\n",
      "16215/16215 - 2s - loss: 0.0263 - mse: 0.0263\n",
      "Epoch 33/100\n",
      "16215/16215 - 2s - loss: 0.0257 - mse: 0.0257\n",
      "Epoch 34/100\n",
      "16215/16215 - 2s - loss: 0.0257 - mse: 0.0257\n",
      "Epoch 35/100\n",
      "16215/16215 - 2s - loss: 0.0255 - mse: 0.0255\n",
      "Epoch 36/100\n",
      "16215/16215 - 2s - loss: 0.0248 - mse: 0.0248\n",
      "Epoch 37/100\n",
      "16215/16215 - 2s - loss: 0.0257 - mse: 0.0257\n",
      "Epoch 38/100\n",
      "16215/16215 - 2s - loss: 0.0252 - mse: 0.0252\n",
      "Epoch 39/100\n",
      "16215/16215 - 1s - loss: 0.0252 - mse: 0.0252\n",
      "Epoch 40/100\n",
      "16215/16215 - 1s - loss: 0.0248 - mse: 0.0248\n",
      "Epoch 41/100\n",
      "16215/16215 - 2s - loss: 0.0255 - mse: 0.0255\n",
      "Epoch 42/100\n",
      "16215/16215 - 1s - loss: 0.0250 - mse: 0.0250\n",
      "Epoch 43/100\n",
      "16215/16215 - 1s - loss: 0.0248 - mse: 0.0248\n",
      "Epoch 44/100\n",
      "16215/16215 - 1s - loss: 0.0252 - mse: 0.0252\n",
      "Epoch 45/100\n",
      "16215/16215 - 1s - loss: 0.0252 - mse: 0.0252\n",
      "Epoch 46/100\n",
      "16215/16215 - 1s - loss: 0.0255 - mse: 0.0255\n",
      "Epoch 47/100\n",
      "16215/16215 - 1s - loss: 0.0256 - mse: 0.0256\n",
      "Epoch 48/100\n",
      "16215/16215 - 1s - loss: 0.0253 - mse: 0.0253\n",
      "Epoch 49/100\n",
      "16215/16215 - 1s - loss: 0.0261 - mse: 0.0261\n",
      "Epoch 50/100\n",
      "16215/16215 - 2s - loss: 0.0251 - mse: 0.0251\n",
      "Epoch 51/100\n",
      "16215/16215 - 2s - loss: 0.0249 - mse: 0.0249\n",
      "Epoch 52/100\n",
      "16215/16215 - 2s - loss: 0.0248 - mse: 0.0248\n",
      "Epoch 53/100\n",
      "16215/16215 - 2s - loss: 0.0253 - mse: 0.0253\n",
      "Epoch 54/100\n",
      "16215/16215 - 2s - loss: 0.0248 - mse: 0.0248\n",
      "Epoch 55/100\n",
      "16215/16215 - 2s - loss: 0.0250 - mse: 0.0250\n",
      "Epoch 56/100\n",
      "16215/16215 - 1s - loss: 0.0246 - mse: 0.0246\n",
      "Epoch 57/100\n",
      "16215/16215 - 2s - loss: 0.0253 - mse: 0.0253\n",
      "Epoch 58/100\n",
      "16215/16215 - 2s - loss: 0.0251 - mse: 0.0251\n",
      "Epoch 59/100\n",
      "16215/16215 - 2s - loss: 0.0248 - mse: 0.0248\n",
      "Epoch 60/100\n",
      "16215/16215 - 1s - loss: 0.0248 - mse: 0.0248\n",
      "Epoch 61/100\n",
      "16215/16215 - 1s - loss: 0.0244 - mse: 0.0244\n",
      "Epoch 62/100\n",
      "16215/16215 - 1s - loss: 0.0247 - mse: 0.0247\n",
      "Epoch 63/100\n",
      "16215/16215 - 1s - loss: 0.0248 - mse: 0.0248\n",
      "Epoch 64/100\n",
      "16215/16215 - 2s - loss: 0.0247 - mse: 0.0247\n",
      "Epoch 65/100\n",
      "16215/16215 - 2s - loss: 0.0248 - mse: 0.0248\n",
      "Epoch 66/100\n",
      "16215/16215 - 1s - loss: 0.0247 - mse: 0.0247\n",
      "Epoch 67/100\n",
      "16215/16215 - 2s - loss: 0.0248 - mse: 0.0248\n",
      "Epoch 68/100\n",
      "16215/16215 - 2s - loss: 0.0247 - mse: 0.0247\n",
      "Epoch 69/100\n",
      "16215/16215 - 1s - loss: 0.0241 - mse: 0.0241\n",
      "Epoch 70/100\n",
      "16215/16215 - 1s - loss: 0.0250 - mse: 0.0250\n",
      "Epoch 71/100\n",
      "16215/16215 - 1s - loss: 0.0245 - mse: 0.0245\n",
      "Epoch 72/100\n",
      "16215/16215 - 1s - loss: 0.0242 - mse: 0.0242\n",
      "Epoch 73/100\n",
      "16215/16215 - 1s - loss: 0.0253 - mse: 0.0253\n",
      "Epoch 74/100\n",
      "16215/16215 - 1s - loss: 0.0245 - mse: 0.0245\n",
      "Epoch 75/100\n",
      "16215/16215 - 1s - loss: 0.0244 - mse: 0.0244\n",
      "Epoch 76/100\n",
      "16215/16215 - 1s - loss: 0.0240 - mse: 0.0240\n",
      "Epoch 77/100\n",
      "16215/16215 - 1s - loss: 0.0246 - mse: 0.0246\n",
      "Epoch 78/100\n",
      "16215/16215 - 1s - loss: 0.0246 - mse: 0.0246\n",
      "Epoch 79/100\n",
      "16215/16215 - 1s - loss: 0.0245 - mse: 0.0245\n",
      "Epoch 80/100\n",
      "16215/16215 - 1s - loss: 0.0242 - mse: 0.0242\n",
      "Epoch 81/100\n",
      "16215/16215 - 1s - loss: 0.0241 - mse: 0.0241\n",
      "Epoch 82/100\n",
      "16215/16215 - 1s - loss: 0.0247 - mse: 0.0247\n",
      "Epoch 83/100\n",
      "16215/16215 - 1s - loss: 0.0242 - mse: 0.0242\n",
      "Epoch 84/100\n",
      "16215/16215 - 1s - loss: 0.0242 - mse: 0.0242\n",
      "Epoch 85/100\n",
      "16215/16215 - 1s - loss: 0.0238 - mse: 0.0238\n",
      "Epoch 86/100\n",
      "16215/16215 - 1s - loss: 0.0249 - mse: 0.0249\n",
      "Epoch 87/100\n",
      "16215/16215 - 1s - loss: 0.0244 - mse: 0.0244\n",
      "Epoch 88/100\n",
      "16215/16215 - 1s - loss: 0.0254 - mse: 0.0254\n",
      "Epoch 89/100\n",
      "16215/16215 - 1s - loss: 0.0246 - mse: 0.0246\n",
      "Epoch 90/100\n",
      "16215/16215 - 1s - loss: 0.0244 - mse: 0.0244\n",
      "Epoch 91/100\n",
      "16215/16215 - 1s - loss: 0.0245 - mse: 0.0245\n",
      "Epoch 92/100\n",
      "16215/16215 - 1s - loss: 0.0255 - mse: 0.0255\n",
      "Epoch 93/100\n",
      "16215/16215 - 1s - loss: 0.0244 - mse: 0.0244\n",
      "Epoch 94/100\n",
      "16215/16215 - 1s - loss: 0.0260 - mse: 0.0260\n",
      "Epoch 95/100\n",
      "16215/16215 - 1s - loss: 0.0244 - mse: 0.0244\n",
      "Epoch 96/100\n",
      "16215/16215 - 1s - loss: 0.0244 - mse: 0.0244\n",
      "Epoch 97/100\n",
      "16215/16215 - 1s - loss: 0.0242 - mse: 0.0242\n",
      "Epoch 98/100\n",
      "16215/16215 - 1s - loss: 0.0239 - mse: 0.0239\n",
      "Epoch 99/100\n",
      "16215/16215 - 1s - loss: 0.0244 - mse: 0.0244\n",
      "Epoch 100/100\n",
      "16215/16215 - 1s - loss: 0.0244 - mse: 0.0244\n"
     ]
    },
    {
     "data": {
      "text/plain": [
       "<tensorflow.python.keras.callbacks.History at 0x23a2941d828>"
      ]
     },
     "execution_count": 11,
     "metadata": {},
     "output_type": "execute_result"
    }
   ],
   "source": [
    "### SET SEED ###\n",
    "tf.random.set_seed(33)\n",
    "os.environ['PYTHONHASHSEED'] = str(33)\n",
    "np.random.seed(33)\n",
    "random.seed(33)\n",
    "\n",
    "session_conf = tf.compat.v1.ConfigProto(\n",
    "    intra_op_parallelism_threads=1, \n",
    "    inter_op_parallelism_threads=1\n",
    ")\n",
    "sess = tf.compat.v1.Session(\n",
    "    graph=tf.compat.v1.get_default_graph(), \n",
    "    config=session_conf\n",
    ")\n",
    "tf.compat.v1.keras.backend.set_session(sess)\n",
    "\n",
    "\n",
    "\n",
    "### DEFINE LSTM AUTOENCODER ###\n",
    "inputs_ae = Input(shape=(sequence_length, 1))\n",
    "encoded_ae = LSTM(128, return_sequences=True, dropout=0.3)(inputs_ae, training=True)\n",
    "decoded_ae = LSTM(32, return_sequences=True, dropout=0.3)(encoded_ae, training=True)\n",
    "out_ae = TimeDistributed(Dense(1))(decoded_ae)\n",
    "\n",
    "sequence_autoencoder = Model(inputs_ae, out_ae)\n",
    "sequence_autoencoder.compile(optimizer='adam', loss='mse', metrics=['mse'])\n",
    "\n",
    "### TRAIN AUTOENCODER ###\n",
    "sequence_autoencoder.fit(X[:len(X_train_c)+len(X_train_o)], X[:len(X_train_c)+len(X_train_o)], \n",
    "                         batch_size=128, epochs=100, verbose=2, shuffle=True)"
   ]
  },
  {
   "cell_type": "code",
   "execution_count": 12,
   "metadata": {},
   "outputs": [
    {
     "data": {
      "text/plain": [
       "(17063, 4, 136)"
      ]
     },
     "execution_count": 12,
     "metadata": {},
     "output_type": "execute_result"
    }
   ],
   "source": [
    "### ENCODE PRICE AND CONCATENATE REGRESSORS ###\n",
    "encoder = Model(inputs_ae, encoded_ae)\n",
    "XX = encoder.predict(X)\n",
    "XXF = np.concatenate([XX, F], axis=2)\n",
    "XXF.shape"
   ]
  },
  {
   "cell_type": "code",
   "execution_count": 13,
   "metadata": {},
   "outputs": [],
   "source": [
    "### SPLIT TRAIN TEST ###\n",
    "X_train1, X_test1 = XXF[:len(X_train_c)+len(X_train_o)], XXF[len(X_train_c)+len(X_train_o):]\n",
    "y_train1, y_test1 = y[:len(y_train_c)+len(y_train_o)], y[len(y_train_c)+len(y_train_o):]"
   ]
  },
  {
   "cell_type": "code",
   "execution_count": 14,
   "metadata": {},
   "outputs": [],
   "source": [
    "### SCALE DATA ###\n",
    "scaler1 = StandardScaler()\n",
    "X_train1 = scaler1.fit_transform(X_train1.reshape(-1,XXF.shape[-1])).reshape(-1,sequence_length,XXF.shape[-1])\n",
    "X_test1 = scaler1.transform(X_test1.reshape(-1,XXF.shape[-1])).reshape(-1,sequence_length,XXF.shape[-1])"
   ]
  },
  {
   "cell_type": "code",
   "execution_count": 15,
   "metadata": {},
   "outputs": [
    {
     "name": "stdout",
     "output_type": "stream",
     "text": [
      "Train on 16215 samples\n",
      "Epoch 1/30\n",
      "16215/16215 - 6s - loss: 0.1143 - mse: 0.1143\n",
      "Epoch 2/30\n",
      "16215/16215 - 2s - loss: 0.0379 - mse: 0.0379\n",
      "Epoch 3/30\n",
      "16215/16215 - 2s - loss: 0.0358 - mse: 0.0358\n",
      "Epoch 4/30\n",
      "16215/16215 - 2s - loss: 0.0351 - mse: 0.0351\n",
      "Epoch 5/30\n",
      "16215/16215 - 2s - loss: 0.0350 - mse: 0.0350\n",
      "Epoch 6/30\n",
      "16215/16215 - 2s - loss: 0.0345 - mse: 0.0345\n",
      "Epoch 7/30\n",
      "16215/16215 - 2s - loss: 0.0342 - mse: 0.0342\n",
      "Epoch 8/30\n",
      "16215/16215 - 2s - loss: 0.0339 - mse: 0.0339\n",
      "Epoch 9/30\n",
      "16215/16215 - 2s - loss: 0.0339 - mse: 0.0339\n",
      "Epoch 10/30\n",
      "16215/16215 - 2s - loss: 0.0335 - mse: 0.0335\n",
      "Epoch 11/30\n",
      "16215/16215 - 2s - loss: 0.0333 - mse: 0.0333\n",
      "Epoch 12/30\n",
      "16215/16215 - 2s - loss: 0.0333 - mse: 0.0333\n",
      "Epoch 13/30\n",
      "16215/16215 - 2s - loss: 0.0339 - mse: 0.0339\n",
      "Epoch 14/30\n",
      "16215/16215 - 2s - loss: 0.0333 - mse: 0.0333\n",
      "Epoch 15/30\n",
      "16215/16215 - 2s - loss: 0.0333 - mse: 0.0333\n",
      "Epoch 16/30\n",
      "16215/16215 - 2s - loss: 0.0324 - mse: 0.0324\n",
      "Epoch 17/30\n",
      "16215/16215 - 2s - loss: 0.0333 - mse: 0.0333\n",
      "Epoch 18/30\n",
      "16215/16215 - 2s - loss: 0.0327 - mse: 0.0327\n",
      "Epoch 19/30\n",
      "16215/16215 - 2s - loss: 0.0327 - mse: 0.0327\n",
      "Epoch 20/30\n",
      "16215/16215 - 2s - loss: 0.0325 - mse: 0.0325\n",
      "Epoch 21/30\n",
      "16215/16215 - 2s - loss: 0.0326 - mse: 0.0326\n",
      "Epoch 22/30\n",
      "16215/16215 - 2s - loss: 0.0325 - mse: 0.0325\n",
      "Epoch 23/30\n",
      "16215/16215 - 2s - loss: 0.0322 - mse: 0.0322\n",
      "Epoch 24/30\n",
      "16215/16215 - 2s - loss: 0.0324 - mse: 0.0324\n",
      "Epoch 25/30\n",
      "16215/16215 - 2s - loss: 0.0323 - mse: 0.0323\n",
      "Epoch 26/30\n",
      "16215/16215 - 2s - loss: 0.0320 - mse: 0.0320\n",
      "Epoch 27/30\n",
      "16215/16215 - 2s - loss: 0.0321 - mse: 0.0321\n",
      "Epoch 28/30\n",
      "16215/16215 - 2s - loss: 0.0322 - mse: 0.0322\n",
      "Epoch 29/30\n",
      "16215/16215 - 2s - loss: 0.0323 - mse: 0.0323\n",
      "Epoch 30/30\n",
      "16215/16215 - 2s - loss: 0.0321 - mse: 0.0321\n"
     ]
    }
   ],
   "source": [
    "### SET SEED ###\n",
    "tf.random.set_seed(33)\n",
    "os.environ['PYTHONHASHSEED'] = str(33)\n",
    "np.random.seed(33)\n",
    "random.seed(33)\n",
    "\n",
    "session_conf = tf.compat.v1.ConfigProto(\n",
    "    intra_op_parallelism_threads=1, \n",
    "    inter_op_parallelism_threads=1\n",
    ")\n",
    "sess = tf.compat.v1.Session(\n",
    "    graph=tf.compat.v1.get_default_graph(), \n",
    "    config=session_conf\n",
    ")\n",
    "tf.compat.v1.keras.backend.set_session(sess)\n",
    "\n",
    "\n",
    "\n",
    "### DEFINE FORECASTER ###\n",
    "inputs1 = Input(shape=(X_train1.shape[1], X_train1.shape[2]))\n",
    "lstm1 = LSTM(128, return_sequences=True, dropout=0.3)(inputs1, training=True)\n",
    "lstm1 = LSTM(32, return_sequences=False, dropout=0.3)(lstm1, training=True)\n",
    "dense1 = Dense(50)(lstm1)\n",
    "out1 = Dense(1)(dense1)\n",
    "\n",
    "model1 = Model(inputs1, out1)\n",
    "model1.compile(loss='mse', optimizer='adam', metrics=['mse'])\n",
    "\n",
    "### FIT FORECASTER ###\n",
    "history = model1.fit(X_train1, y_train1, epochs=30, batch_size=128, verbose=2, shuffle=True)"
   ]
  },
  {
   "cell_type": "code",
   "execution_count": 16,
   "metadata": {},
   "outputs": [],
   "source": [
    "### FUNCTION FOR STOCHASTIC DROPOUT ###\n",
    "def stoc_drop1(R, enc, NN):\n",
    "    \n",
    "    enc_pred = np.vstack(enc([X[len(X_train_c)+len(X_train_o):], R]))\n",
    "    enc_pred = np.concatenate([enc_pred, F[len(X_train_c)+len(X_train_o):]], axis=2)\n",
    "    trans_pred = scaler1.transform(enc_pred.reshape(-1,enc_pred.shape[-1])).reshape(-1,sequence_length,enc_pred.shape[-1])\n",
    "    NN_pred = NN([trans_pred, R])\n",
    "    \n",
    "    return np.vstack(NN_pred)"
   ]
  },
  {
   "cell_type": "code",
   "execution_count": 17,
   "metadata": {},
   "outputs": [
    {
     "name": "stderr",
     "output_type": "stream",
     "text": [
      "100%|████████████████████████████████████████████████████████████████████████████████| 100/100 [00:09<00:00, 10.34it/s]"
     ]
    },
    {
     "name": "stdout",
     "output_type": "stream",
     "text": [
      "0.12297117718936137 0.0020454417787602983\n"
     ]
    },
    {
     "name": "stderr",
     "output_type": "stream",
     "text": [
      "\n"
     ]
    }
   ],
   "source": [
    "### COMPUTE STOCHASTIC DROPOUT ###\n",
    "scores1 = []\n",
    "enc = K.function([encoder.layers[0].input], [encoder.layers[-1].output])\n",
    "NN = K.function([model1.layers[0].input], [model1.layers[-1].output])\n",
    "\n",
    "for i in tqdm.tqdm(range(0,100)):\n",
    "    scores1.append(mean_absolute_error(y_test1, stoc_drop1(0.5, enc, NN)))\n",
    "\n",
    "print(np.mean(scores1), np.std(scores1))"
   ]
  },
  {
   "cell_type": "code",
   "execution_count": null,
   "metadata": {},
   "outputs": [],
   "source": []
  },
  {
   "cell_type": "markdown",
   "metadata": {},
   "source": [
    "# SIMPLE FORECASTER"
   ]
  },
  {
   "cell_type": "code",
   "execution_count": 18,
   "metadata": {},
   "outputs": [
    {
     "name": "stdout",
     "output_type": "stream",
     "text": [
      "(17063, 4, 9)\n"
     ]
    }
   ],
   "source": [
    "### CONCATENATE REGRESSORS ###\n",
    "XF = np.concatenate([X, F], axis=2)\n",
    "print(XF.shape)"
   ]
  },
  {
   "cell_type": "code",
   "execution_count": 19,
   "metadata": {},
   "outputs": [],
   "source": [
    "### SPLIT TRAIN TEST ###\n",
    "X_train2, X_test2 = XF[:len(X_train_c)+len(X_train_o)], XF[len(X_train_c)+len(X_train_o):]\n",
    "y_train2, y_test2 = y[:len(y_train_c)+len(y_train_o)], y[len(y_train_c)+len(y_train_o):]"
   ]
  },
  {
   "cell_type": "code",
   "execution_count": 20,
   "metadata": {},
   "outputs": [],
   "source": [
    "### SCALE DATA ###\n",
    "scaler2 = StandardScaler()\n",
    "X_train2 = scaler2.fit_transform(X_train2.reshape(-1,X_train2.shape[-1])).reshape(-1,sequence_length,X_train2.shape[-1])\n",
    "X_test2 = scaler2.transform(X_test2.reshape(-1,X_train2.shape[-1])).reshape(-1,sequence_length,X_train2.shape[-1])"
   ]
  },
  {
   "cell_type": "code",
   "execution_count": 21,
   "metadata": {},
   "outputs": [
    {
     "name": "stdout",
     "output_type": "stream",
     "text": [
      "Train on 16215 samples\n",
      "Epoch 1/30\n",
      "16215/16215 - 7s - loss: 0.2594 - mse: 0.2594\n",
      "Epoch 2/30\n",
      "16215/16215 - 2s - loss: 0.0464 - mse: 0.0464\n",
      "Epoch 3/30\n",
      "16215/16215 - 2s - loss: 0.0445 - mse: 0.0445\n",
      "Epoch 4/30\n",
      "16215/16215 - 2s - loss: 0.0431 - mse: 0.0431\n",
      "Epoch 5/30\n",
      "16215/16215 - 2s - loss: 0.0429 - mse: 0.0429\n",
      "Epoch 6/30\n",
      "16215/16215 - 2s - loss: 0.0427 - mse: 0.0427\n",
      "Epoch 7/30\n",
      "16215/16215 - 2s - loss: 0.0417 - mse: 0.0417\n",
      "Epoch 8/30\n",
      "16215/16215 - 2s - loss: 0.0405 - mse: 0.0405\n",
      "Epoch 9/30\n",
      "16215/16215 - 2s - loss: 0.0403 - mse: 0.0403\n",
      "Epoch 10/30\n",
      "16215/16215 - 2s - loss: 0.0405 - mse: 0.0405\n",
      "Epoch 11/30\n",
      "16215/16215 - 1s - loss: 0.0397 - mse: 0.0397\n",
      "Epoch 12/30\n",
      "16215/16215 - 1s - loss: 0.0391 - mse: 0.0391\n",
      "Epoch 13/30\n",
      "16215/16215 - 1s - loss: 0.0387 - mse: 0.0387\n",
      "Epoch 14/30\n",
      "16215/16215 - 1s - loss: 0.0386 - mse: 0.0386\n",
      "Epoch 15/30\n",
      "16215/16215 - 2s - loss: 0.0375 - mse: 0.0375\n",
      "Epoch 16/30\n",
      "16215/16215 - 2s - loss: 0.0374 - mse: 0.0374\n",
      "Epoch 17/30\n",
      "16215/16215 - 1s - loss: 0.0377 - mse: 0.0377\n",
      "Epoch 18/30\n",
      "16215/16215 - 1s - loss: 0.0372 - mse: 0.0372\n",
      "Epoch 19/30\n",
      "16215/16215 - 1s - loss: 0.0378 - mse: 0.0378\n",
      "Epoch 20/30\n",
      "16215/16215 - 1s - loss: 0.0377 - mse: 0.0377\n",
      "Epoch 21/30\n",
      "16215/16215 - 1s - loss: 0.0368 - mse: 0.0368\n",
      "Epoch 22/30\n",
      "16215/16215 - 2s - loss: 0.0362 - mse: 0.0362\n",
      "Epoch 23/30\n",
      "16215/16215 - 1s - loss: 0.0368 - mse: 0.0368\n",
      "Epoch 24/30\n",
      "16215/16215 - 1s - loss: 0.0365 - mse: 0.0365\n",
      "Epoch 25/30\n",
      "16215/16215 - 2s - loss: 0.0370 - mse: 0.0370\n",
      "Epoch 26/30\n",
      "16215/16215 - 1s - loss: 0.0364 - mse: 0.0364\n",
      "Epoch 27/30\n",
      "16215/16215 - 2s - loss: 0.0366 - mse: 0.0366\n",
      "Epoch 28/30\n",
      "16215/16215 - 2s - loss: 0.0354 - mse: 0.0354\n",
      "Epoch 29/30\n",
      "16215/16215 - 2s - loss: 0.0365 - mse: 0.0365\n",
      "Epoch 30/30\n",
      "16215/16215 - 2s - loss: 0.0361 - mse: 0.0361\n"
     ]
    }
   ],
   "source": [
    "### SET SEED ###\n",
    "tf.random.set_seed(33)\n",
    "os.environ['PYTHONHASHSEED'] = str(33)\n",
    "np.random.seed(33)\n",
    "random.seed(33)\n",
    "\n",
    "session_conf = tf.compat.v1.ConfigProto(\n",
    "    intra_op_parallelism_threads=1, \n",
    "    inter_op_parallelism_threads=1\n",
    ")\n",
    "sess = tf.compat.v1.Session(\n",
    "    graph=tf.compat.v1.get_default_graph(), \n",
    "    config=session_conf\n",
    ")\n",
    "tf.compat.v1.keras.backend.set_session(sess)\n",
    "\n",
    "\n",
    "\n",
    "### DEFINE LSTM FORECASTER ###\n",
    "inputs2 = Input(shape=(X_train2.shape[1], X_train2.shape[2]))\n",
    "lstm2 = LSTM(128, return_sequences=True, dropout=0.3)(inputs2, training=True)\n",
    "lstm2 = LSTM(32, return_sequences=False, dropout=0.3)(lstm2, training=True)\n",
    "dense2 = Dense(50)(lstm2)\n",
    "out2 = Dense(1)(dense2)\n",
    "\n",
    "model2 = Model(inputs2, out2)\n",
    "model2.compile(loss='mse', optimizer='adam', metrics=['mse'])\n",
    "\n",
    "### FIT FORECASTER ###\n",
    "history = model2.fit(X_train2, y_train2, epochs=30, batch_size=128, verbose=2, shuffle=True)"
   ]
  },
  {
   "cell_type": "code",
   "execution_count": 22,
   "metadata": {},
   "outputs": [],
   "source": [
    "### FUNCTION FOR STOCHASTIC DROPOUT ###\n",
    "def stoc_drop2(R, NN):\n",
    "    \n",
    "    trans_pred = scaler2.transform(XF[len(X_train_c)+len(X_train_o):].reshape(-1,XF.shape[-1])).reshape(-1,sequence_length,XF.shape[-1])\n",
    "    NN_pred = NN([trans_pred,R])\n",
    "    \n",
    "    return np.vstack(NN_pred)"
   ]
  },
  {
   "cell_type": "code",
   "execution_count": 23,
   "metadata": {},
   "outputs": [
    {
     "name": "stderr",
     "output_type": "stream",
     "text": [
      "100%|████████████████████████████████████████████████████████████████████████████████| 100/100 [00:04<00:00, 20.13it/s]"
     ]
    },
    {
     "name": "stdout",
     "output_type": "stream",
     "text": [
      "0.13172370911866144 0.002139150581867913\n"
     ]
    },
    {
     "name": "stderr",
     "output_type": "stream",
     "text": [
      "\n"
     ]
    }
   ],
   "source": [
    "### COMPUTE STOCHASTIC DROPOUT ###\n",
    "scores2 = []\n",
    "NN = K.function([model2.layers[0].input], [model2.layers[-1].output])\n",
    "\n",
    "for i in tqdm.tqdm(range(0,100)):\n",
    "    scores2.append(mean_absolute_error(y_test2, stoc_drop2(0.5, NN)))\n",
    "\n",
    "print(np.mean(scores2), np.std(scores2))"
   ]
  },
  {
   "cell_type": "markdown",
   "metadata": {},
   "source": [
    "# COMPARE RESULTS"
   ]
  },
  {
   "cell_type": "code",
   "execution_count": 24,
   "metadata": {},
   "outputs": [],
   "source": [
    "### FUNCTION TO GET TEST DATA FOR COUNTY ###\n",
    "def test_county(county):\n",
    "    \n",
    "    test_X_c, test_X_o = [], []\n",
    "    \n",
    "    for sequence in gen_sequence(df[(df[\"region\"]==county)&(df[\"type\"]==\"conventional\")&(df[\"year\"]==2018)], \n",
    "                                 sequence_length, ['AveragePrice']):\n",
    "        test_X_c.append(sequence)\n",
    "        \n",
    "    for sequence in gen_sequence(df[(df[\"region\"]==county)&(df[\"type\"]==\"organic\")&(df[\"year\"]==2018)], \n",
    "                                 sequence_length, ['AveragePrice']):\n",
    "        test_X_o.append(sequence)\n",
    "        \n",
    "    test_X_c, test_X_o = np.asarray(test_X_c), np.asarray(test_X_o)\n",
    "    \n",
    "    test_y_c, test_y_o = [], []\n",
    "    \n",
    "    for sequence in gen_labels(df[(df[\"region\"]==county)&(df[\"type\"]==\"conventional\")&(df[\"year\"]==2018)],\n",
    "                               sequence_length, ['AveragePrice']):\n",
    "        test_y_c.append(sequence)\n",
    "        \n",
    "    for sequence in gen_labels(df[(df[\"region\"]==county)&(df[\"type\"]==\"organic\")&(df[\"year\"]==2018)], \n",
    "                               sequence_length, ['AveragePrice']):\n",
    "        test_y_o.append(sequence)\n",
    "        \n",
    "    test_y_c, test_y_o = np.asarray(test_y_c), np.asarray(test_y_o)\n",
    "    \n",
    "    test_F_c, test_F_o = [], []\n",
    "    \n",
    "    for sequence in gen_sequence(df[(df[\"region\"]==county)&(df[\"type\"]==\"conventional\")&(df[\"year\"]==2018)], \n",
    "                                 sequence_length, col):\n",
    "        test_F_c.append(sequence)\n",
    "        \n",
    "    for sequence in gen_sequence(df[(df[\"region\"]==county)&(df[\"type\"]==\"organic\")&(df[\"year\"]==2018)],\n",
    "                                 sequence_length, col):\n",
    "        test_F_o.append(sequence)\n",
    "        \n",
    "    test_F_c, test_F_o = np.asarray(test_F_c), np.asarray(test_F_o)\n",
    "    \n",
    "    X = np.concatenate([test_X_c,test_X_o],axis=0)\n",
    "    y = np.concatenate([test_y_c,test_y_o],axis=0)\n",
    "    F = np.concatenate([test_F_c,test_F_o],axis=0)\n",
    "    \n",
    "    return X, y, F"
   ]
  },
  {
   "cell_type": "code",
   "execution_count": 25,
   "metadata": {},
   "outputs": [],
   "source": [
    "### FUNCTION FOR STOCHASTIC DROPOUT FOR SINGLE COUNTY ###\n",
    "def test_stoc_drop1(county, R, enc, NN):\n",
    "    \n",
    "    X, y, F = test_county(county)\n",
    "    \n",
    "    enc_pred = np.vstack(enc([X, R]))\n",
    "    enc_pred = np.concatenate([enc_pred, F], axis=2)\n",
    "    trans_pred = scaler1.transform(enc_pred.reshape(-1,enc_pred.shape[-1])).reshape(-1,sequence_length,enc_pred.shape[-1])\n",
    "    NN_pred = NN([trans_pred, R])\n",
    "    \n",
    "    return np.vstack(NN_pred), y\n",
    "\n",
    "\n",
    "def test_stoc_drop2(county, R, NN):\n",
    "    \n",
    "    X, y, F = test_county(county)\n",
    "    \n",
    "    XF = np.concatenate([X, F], axis=2)\n",
    "    trans_pred = scaler2.transform(XF.reshape(-1,XF.shape[-1])).reshape(-1,sequence_length,XF.shape[-1])\n",
    "    NN_pred = NN([trans_pred, R])\n",
    "    \n",
    "    return np.vstack(NN_pred), y"
   ]
  },
  {
   "cell_type": "code",
   "execution_count": null,
   "metadata": {},
   "outputs": [],
   "source": []
  },
  {
   "cell_type": "code",
   "execution_count": 26,
   "metadata": {},
   "outputs": [],
   "source": [
    "enc = K.function([encoder.layers[0].input], [encoder.layers[-1].output])\n",
    "NN = K.function([model1.layers[0].input], [model1.layers[-1].output])\n",
    "pred1_test, y1_test = test_stoc_drop1('TotalUS', 0.5, enc, NN)"
   ]
  },
  {
   "cell_type": "code",
   "execution_count": 27,
   "metadata": {},
   "outputs": [
    {
     "name": "stderr",
     "output_type": "stream",
     "text": [
      "100%|████████████████████████████████████████████████████████████████████████████████| 100/100 [00:03<00:00, 25.17it/s]"
     ]
    },
    {
     "name": "stdout",
     "output_type": "stream",
     "text": [
      "0.07886009132415056 0.010576784979192367\n"
     ]
    },
    {
     "name": "stderr",
     "output_type": "stream",
     "text": [
      "\n"
     ]
    }
   ],
   "source": [
    "### COMPUTE STOCHASTIC DROPOUT FOR SINGLE COUNTY ###\n",
    "mae1_test = []\n",
    "enc = K.function([encoder.layers[0].input], [encoder.layers[-1].output])\n",
    "NN = K.function([model1.layers[0].input], [model1.layers[-1].output])\n",
    "\n",
    "for i in tqdm.tqdm(range(0,100)):\n",
    "    mae1_test.append(mean_absolute_error(y1_test, test_stoc_drop1('TotalUS', 0.5, enc, NN)[0]))\n",
    "\n",
    "print(np.mean(mae1_test), np.std(mae1_test))"
   ]
  },
  {
   "cell_type": "code",
   "execution_count": 28,
   "metadata": {},
   "outputs": [],
   "source": [
    "NN = K.function([model2.layers[0].input], [model2.layers[-1].output])\n",
    "pred2_test, y2_test = test_stoc_drop2('TotalUS', 0.5, NN)"
   ]
  },
  {
   "cell_type": "code",
   "execution_count": 29,
   "metadata": {},
   "outputs": [
    {
     "name": "stderr",
     "output_type": "stream",
     "text": [
      "100%|████████████████████████████████████████████████████████████████████████████████| 100/100 [00:03<00:00, 25.46it/s]"
     ]
    },
    {
     "name": "stdout",
     "output_type": "stream",
     "text": [
      "0.08704570690691468 0.013601901516823731\n"
     ]
    },
    {
     "name": "stderr",
     "output_type": "stream",
     "text": [
      "\n"
     ]
    }
   ],
   "source": [
    "### COMPUTE STOCHASTIC DROPOUT FOR SINGLE COUNTY ###\n",
    "mae2_test = []\n",
    "NN = K.function([model2.layers[0].input], [model2.layers[-1].output])\n",
    "\n",
    "for i in tqdm.tqdm(range(0,100)):\n",
    "    mae2_test.append(mean_absolute_error(y2_test, test_stoc_drop2('TotalUS', 0.5, NN)[0]))\n",
    "\n",
    "print(np.mean(mae2_test), np.std(mae2_test))"
   ]
  },
  {
   "cell_type": "code",
   "execution_count": 30,
   "metadata": {},
   "outputs": [
    {
     "data": {
      "text/plain": [
       "Text(0.5, 1.0, 'TotalUS')"
      ]
     },
     "execution_count": 30,
     "metadata": {},
     "output_type": "execute_result"
    },
    {
     "data": {
      "image/png": "[encoded data removed]",
      "text/plain": [
       "<Figure size 432x288 with 1 Axes>"
      ]
     },
     "metadata": {
      "needs_background": "light"
     },
     "output_type": "display_data"
    }
   ],
   "source": [
    "### PLOT AVG AND UNCERTAINTY OF RESULTS ###\n",
    "bar = plt.bar([0,1], [np.mean(mae1_test), np.mean(mae2_test)], \n",
    "              yerr=[2.95*np.std(mae1_test), 2.95*np.std(mae2_test)])\n",
    "plt.xticks([0,1], ['model1','model2'], rotation=90)\n",
    "bar[0].set_color('cyan'), bar[1].set_color('magenta')\n",
    "plt.title('TotalUS')"
   ]
  },
  {
   "cell_type": "code",
   "execution_count": null,
   "metadata": {},
   "outputs": [],
   "source": []
  },
  {
   "cell_type": "markdown",
   "metadata": {},
   "source": [
    "# UNSEEN DATA PREDICTION"
   ]
  },
  {
   "cell_type": "code",
   "execution_count": 31,
   "metadata": {},
   "outputs": [],
   "source": [
    "### FUNCTION FOR STOCHASTIC DROPOUT FOR UNSEEN COUNTY ###\n",
    "def test_other_drop1(R, typ, enc, NN):\n",
    "    \n",
    "    if typ == 'conventional':\n",
    "        X = np.concatenate([X_other_train_c, X_other_test_c],axis=0)\n",
    "        F = np.concatenate([f_other_train_c, f_other_test_c],axis=0)\n",
    "        y = np.concatenate([y_other_train_c, y_other_test_c],axis=0)\n",
    "    elif typ == 'organic':\n",
    "        X = np.concatenate([X_other_train_o, X_other_test_o],axis=0)\n",
    "        F = np.concatenate([f_other_train_o, f_other_test_o],axis=0)\n",
    "        y = np.concatenate([y_other_train_o, y_other_test_o],axis=0)\n",
    "    \n",
    "    enc_pred = np.vstack(enc([X, R]))\n",
    "    enc_pred = np.concatenate([enc_pred, F], axis=2)\n",
    "    trans_pred = scaler1.transform(enc_pred.reshape(-1,enc_pred.shape[-1])).reshape(-1,sequence_length,enc_pred.shape[-1])\n",
    "    NN_pred = NN([trans_pred, R])\n",
    "    \n",
    "    return np.vstack(NN_pred), y\n",
    "\n",
    "\n",
    "def test_other_drop2(R, typ, NN):\n",
    "\n",
    "    if typ == 'conventional':\n",
    "        X = np.concatenate([X_other_train_c, X_other_test_c],axis=0)\n",
    "        F = np.concatenate([f_other_train_c, f_other_test_c],axis=0)\n",
    "        y = np.concatenate([y_other_train_c, y_other_test_c],axis=0)\n",
    "    elif typ == 'organic':\n",
    "        X = np.concatenate([X_other_train_o, X_other_test_o],axis=0)\n",
    "        F = np.concatenate([f_other_train_o, f_other_test_o],axis=0)\n",
    "        y = np.concatenate([y_other_train_o, y_other_test_o],axis=0)\n",
    "    \n",
    "    XF = np.concatenate([X,F], axis=2)\n",
    "    trans_pred = scaler2.transform(XF.reshape(-1,XF.shape[-1])).reshape(-1,sequence_length,XF.shape[-1])\n",
    "    NN_pred = NN([trans_pred, R])\n",
    "    \n",
    "    return np.vstack(NN_pred), y"
   ]
  },
  {
   "cell_type": "code",
   "execution_count": 32,
   "metadata": {},
   "outputs": [
    {
     "name": "stderr",
     "output_type": "stream",
     "text": [
      "100%|████████████████████████████████████████████████████████████████████████████████| 100/100 [00:01<00:00, 54.35it/s]"
     ]
    },
    {
     "name": "stdout",
     "output_type": "stream",
     "text": [
      "0.10609075815781303 0.003952270512136191\n"
     ]
    },
    {
     "name": "stderr",
     "output_type": "stream",
     "text": [
      "\n"
     ]
    }
   ],
   "source": [
    "### COMPUTE STOCHASTIC DROPOUT FOR UNSEEN COUNTY ###\n",
    "mae1_other, p1_other = [], []\n",
    "enc = K.function([encoder.layers[0].input], [encoder.layers[-1].output])\n",
    "NN = K.function([model1.layers[0].input], [model1.layers[-1].output])\n",
    "\n",
    "for i in tqdm.tqdm(range(0,100)):\n",
    "    pred1_other, true1_other = test_other_drop1(0.5, 'organic', enc, NN)\n",
    "    mae1_other.append(mean_absolute_error(true1_other, pred1_other))\n",
    "    p1_other.append(pred1_other)\n",
    "\n",
    "print(np.mean(mae1_other), np.std(mae1_other))"
   ]
  },
  {
   "cell_type": "code",
   "execution_count": 33,
   "metadata": {},
   "outputs": [
    {
     "name": "stderr",
     "output_type": "stream",
     "text": [
      "100%|████████████████████████████████████████████████████████████████████████████████| 100/100 [00:01<00:00, 88.50it/s]"
     ]
    },
    {
     "name": "stdout",
     "output_type": "stream",
     "text": [
      "0.11329515988278832 0.005506862995657835\n"
     ]
    },
    {
     "name": "stderr",
     "output_type": "stream",
     "text": [
      "\n"
     ]
    }
   ],
   "source": [
    "### COMPUTE STOCHASTIC DROPOUT FOR UNSEEN COUNTY ###\n",
    "mae2_other, p2_other = [], []\n",
    "NN = K.function([model2.layers[0].input], [model2.layers[-1].output])\n",
    "\n",
    "for i in tqdm.tqdm(range(0,100)):\n",
    "    pred2_other, true2_other = test_other_drop2(0.5, 'organic', NN)\n",
    "    mae2_other.append(mean_absolute_error(true2_other, pred2_other))\n",
    "    p2_other.append(pred2_other)\n",
    "\n",
    "print(np.mean(mae2_other), np.std(mae2_other))"
   ]
  },
  {
   "cell_type": "code",
   "execution_count": null,
   "metadata": {},
   "outputs": [],
   "source": []
  },
  {
   "cell_type": "code",
   "execution_count": 34,
   "metadata": {},
   "outputs": [
    {
     "data": {
      "text/plain": [
       "Text(0.5, 1.0, 'ORGANIC Albany')"
      ]
     },
     "execution_count": 34,
     "metadata": {},
     "output_type": "execute_result"
    },
    {
     "data": {
      "image/png": "[encoded data removed]",
      "text/plain": [
       "<Figure size 432x288 with 1 Axes>"
      ]
     },
     "metadata": {
      "needs_background": "light"
     },
     "output_type": "display_data"
    }
   ],
   "source": [
    "### PLOT AVG AND UNCERTAINTY OF RESULTS ###\n",
    "bar = plt.bar([0,1], [np.mean(mae1_other), np.mean(mae2_other)], \n",
    "              yerr=[2.95*np.std(mae1_other), 2.95*np.std(mae2_other)])\n",
    "plt.xticks([0,1], ['model1','model2'], rotation=90)\n",
    "bar[0].set_color('cyan'), bar[1].set_color('magenta')\n",
    "plt.title('ORGANIC Albany')"
   ]
  }
 ],
 "metadata": {
  "kernelspec": {
   "display_name": "Python 3",
   "language": "python",
   "name": "python3"
  },
  "language_info": {
   "codemirror_mode": {
    "name": "ipython",
    "version": 3
   },
   "file_extension": ".py",
   "mimetype": "text/x-python",
   "name": "python",
   "nbconvert_exporter": "python",
   "pygments_lexer": "ipython3",
   "version": "3.6.6"
  }
 },
 "nbformat": 4,
 "nbformat_minor": 2
}

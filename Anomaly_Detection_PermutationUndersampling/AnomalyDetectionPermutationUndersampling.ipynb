{
 "cells": [
  {
   "cell_type": "code",
   "execution_count": 1,
   "metadata": {},
   "outputs": [],
   "source": [
    "import numpy as np\n",
    "import pandas as pd\n",
    "import matplotlib.pyplot as plt\n",
    "import itertools\n",
    "\n",
    "from sklearn.model_selection import KFold, StratifiedKFold\n",
    "from sklearn.preprocessing import LabelEncoder, StandardScaler\n",
    "from sklearn.decomposition import PCA\n",
    "from sklearn.metrics import roc_auc_score, classification_report, confusion_matrix\n",
    "from sklearn.linear_model import LogisticRegression"
   ]
  },
  {
   "cell_type": "code",
   "execution_count": 2,
   "metadata": {},
   "outputs": [],
   "source": [
    "def plot_confusion_matrix(cm, classes, title='Confusion matrix', cmap=plt.cm.Blues):\n",
    "\n",
    "    cm = cm.astype('float') / cm.sum(axis=1)[:, np.newaxis]\n",
    "\n",
    "    plt.imshow(cm, interpolation='nearest', cmap=cmap)\n",
    "    plt.title(title, fontsize=25)\n",
    "    #plt.colorbar()\n",
    "    tick_marks = np.arange(len(classes))\n",
    "    plt.xticks(tick_marks, classes, rotation=90, fontsize=15)\n",
    "    plt.yticks(tick_marks, classes, fontsize=15)\n",
    "\n",
    "    fmt = '.2f'\n",
    "    thresh = cm.max() / 2.\n",
    "    for i, j in itertools.product(range(cm.shape[0]), range(cm.shape[1])):\n",
    "        plt.text(j, i, format(cm[i, j], fmt),\n",
    "                 horizontalalignment=\"center\",\n",
    "                 color=\"white\" if cm[i, j] > thresh else \"black\", fontsize = 14)\n",
    "\n",
    "    plt.ylabel('True label', fontsize=20)\n",
    "    plt.xlabel('Predicted label', fontsize=20)"
   ]
  },
  {
   "cell_type": "code",
   "execution_count": 3,
   "metadata": {},
   "outputs": [
    {
     "name": "stdout",
     "output_type": "stream",
     "text": [
      "(260753, 298)\n"
     ]
    },
    {
     "data": {
      "text/html": [
       "<div>\n",
       "<style scoped>\n",
       "    .dataframe tbody tr th:only-of-type {\n",
       "        vertical-align: middle;\n",
       "    }\n",
       "\n",
       "    .dataframe tbody tr th {\n",
       "        vertical-align: top;\n",
       "    }\n",
       "\n",
       "    .dataframe thead th {\n",
       "        text-align: right;\n",
       "    }\n",
       "</style>\n",
       "<table border=\"1\" class=\"dataframe\">\n",
       "  <thead>\n",
       "    <tr style=\"text-align: right;\">\n",
       "      <th></th>\n",
       "      <th>Original_Quote_Date</th>\n",
       "      <th>QuoteConversion_Flag</th>\n",
       "      <th>Field6</th>\n",
       "      <th>Field7</th>\n",
       "      <th>Field8</th>\n",
       "      <th>Field9</th>\n",
       "      <th>Field10</th>\n",
       "      <th>Field11</th>\n",
       "      <th>Field12</th>\n",
       "      <th>CoverageField1A</th>\n",
       "      <th>...</th>\n",
       "      <th>GeographicField59A</th>\n",
       "      <th>GeographicField59B</th>\n",
       "      <th>GeographicField60A</th>\n",
       "      <th>GeographicField60B</th>\n",
       "      <th>GeographicField61A</th>\n",
       "      <th>GeographicField61B</th>\n",
       "      <th>GeographicField62A</th>\n",
       "      <th>GeographicField62B</th>\n",
       "      <th>GeographicField63</th>\n",
       "      <th>GeographicField64</th>\n",
       "    </tr>\n",
       "  </thead>\n",
       "  <tbody>\n",
       "    <tr>\n",
       "      <td>134059</td>\n",
       "      <td>2013-01-01</td>\n",
       "      <td>0</td>\n",
       "      <td>E</td>\n",
       "      <td>8</td>\n",
       "      <td>0.9368</td>\n",
       "      <td>0.0006</td>\n",
       "      <td>1,480</td>\n",
       "      <td>1.2714</td>\n",
       "      <td>N</td>\n",
       "      <td>14</td>\n",
       "      <td>...</td>\n",
       "      <td>7</td>\n",
       "      <td>7</td>\n",
       "      <td>-1</td>\n",
       "      <td>18</td>\n",
       "      <td>-1</td>\n",
       "      <td>7</td>\n",
       "      <td>-1</td>\n",
       "      <td>18</td>\n",
       "      <td>N</td>\n",
       "      <td>IL</td>\n",
       "    </tr>\n",
       "    <tr>\n",
       "      <td>15005</td>\n",
       "      <td>2013-01-01</td>\n",
       "      <td>0</td>\n",
       "      <td>B</td>\n",
       "      <td>23</td>\n",
       "      <td>0.9219</td>\n",
       "      <td>0.0006</td>\n",
       "      <td>965</td>\n",
       "      <td>1.0000</td>\n",
       "      <td>N</td>\n",
       "      <td>25</td>\n",
       "      <td>...</td>\n",
       "      <td>25</td>\n",
       "      <td>25</td>\n",
       "      <td>-1</td>\n",
       "      <td>22</td>\n",
       "      <td>-1</td>\n",
       "      <td>16</td>\n",
       "      <td>-1</td>\n",
       "      <td>17</td>\n",
       "      <td>N</td>\n",
       "      <td>CA</td>\n",
       "    </tr>\n",
       "    <tr>\n",
       "      <td>43051</td>\n",
       "      <td>2013-01-01</td>\n",
       "      <td>0</td>\n",
       "      <td>J</td>\n",
       "      <td>12</td>\n",
       "      <td>0.9559</td>\n",
       "      <td>0.0004</td>\n",
       "      <td>1,165</td>\n",
       "      <td>1.2392</td>\n",
       "      <td>N</td>\n",
       "      <td>25</td>\n",
       "      <td>...</td>\n",
       "      <td>4</td>\n",
       "      <td>3</td>\n",
       "      <td>-1</td>\n",
       "      <td>10</td>\n",
       "      <td>-1</td>\n",
       "      <td>15</td>\n",
       "      <td>-1</td>\n",
       "      <td>15</td>\n",
       "      <td>N</td>\n",
       "      <td>TX</td>\n",
       "    </tr>\n",
       "    <tr>\n",
       "      <td>103712</td>\n",
       "      <td>2013-01-01</td>\n",
       "      <td>0</td>\n",
       "      <td>J</td>\n",
       "      <td>4</td>\n",
       "      <td>0.9559</td>\n",
       "      <td>0.0004</td>\n",
       "      <td>1,165</td>\n",
       "      <td>1.2392</td>\n",
       "      <td>N</td>\n",
       "      <td>10</td>\n",
       "      <td>...</td>\n",
       "      <td>8</td>\n",
       "      <td>7</td>\n",
       "      <td>-1</td>\n",
       "      <td>16</td>\n",
       "      <td>-1</td>\n",
       "      <td>2</td>\n",
       "      <td>-1</td>\n",
       "      <td>21</td>\n",
       "      <td>N</td>\n",
       "      <td>TX</td>\n",
       "    </tr>\n",
       "    <tr>\n",
       "      <td>243189</td>\n",
       "      <td>2013-01-01</td>\n",
       "      <td>0</td>\n",
       "      <td>E</td>\n",
       "      <td>23</td>\n",
       "      <td>0.9368</td>\n",
       "      <td>0.0006</td>\n",
       "      <td>1,480</td>\n",
       "      <td>1.2714</td>\n",
       "      <td>N</td>\n",
       "      <td>9</td>\n",
       "      <td>...</td>\n",
       "      <td>10</td>\n",
       "      <td>10</td>\n",
       "      <td>-1</td>\n",
       "      <td>23</td>\n",
       "      <td>-1</td>\n",
       "      <td>8</td>\n",
       "      <td>-1</td>\n",
       "      <td>8</td>\n",
       "      <td>N</td>\n",
       "      <td>IL</td>\n",
       "    </tr>\n",
       "  </tbody>\n",
       "</table>\n",
       "<p>5 rows × 298 columns</p>\n",
       "</div>"
      ],
      "text/plain": [
       "       Original_Quote_Date  QuoteConversion_Flag Field6  Field7  Field8  \\\n",
       "134059          2013-01-01                     0      E       8  0.9368   \n",
       "15005           2013-01-01                     0      B      23  0.9219   \n",
       "43051           2013-01-01                     0      J      12  0.9559   \n",
       "103712          2013-01-01                     0      J       4  0.9559   \n",
       "243189          2013-01-01                     0      E      23  0.9368   \n",
       "\n",
       "        Field9 Field10  Field11 Field12  CoverageField1A  ...  \\\n",
       "134059  0.0006   1,480   1.2714       N               14  ...   \n",
       "15005   0.0006     965   1.0000       N               25  ...   \n",
       "43051   0.0004   1,165   1.2392       N               25  ...   \n",
       "103712  0.0004   1,165   1.2392       N               10  ...   \n",
       "243189  0.0006   1,480   1.2714       N                9  ...   \n",
       "\n",
       "        GeographicField59A  GeographicField59B  GeographicField60A  \\\n",
       "134059                   7                   7                  -1   \n",
       "15005                   25                  25                  -1   \n",
       "43051                    4                   3                  -1   \n",
       "103712                   8                   7                  -1   \n",
       "243189                  10                  10                  -1   \n",
       "\n",
       "        GeographicField60B  GeographicField61A  GeographicField61B  \\\n",
       "134059                  18                  -1                   7   \n",
       "15005                   22                  -1                  16   \n",
       "43051                   10                  -1                  15   \n",
       "103712                  16                  -1                   2   \n",
       "243189                  23                  -1                   8   \n",
       "\n",
       "        GeographicField62A  GeographicField62B  GeographicField63  \\\n",
       "134059                  -1                  18                  N   \n",
       "15005                   -1                  17                  N   \n",
       "43051                   -1                  15                  N   \n",
       "103712                  -1                  21                  N   \n",
       "243189                  -1                   8                  N   \n",
       "\n",
       "        GeographicField64  \n",
       "134059                 IL  \n",
       "15005                  CA  \n",
       "43051                  TX  \n",
       "103712                 TX  \n",
       "243189                 IL  \n",
       "\n",
       "[5 rows x 298 columns]"
      ]
     },
     "execution_count": 3,
     "metadata": {},
     "output_type": "execute_result"
    }
   ],
   "source": [
    "### READ DATA ###\n",
    "\n",
    "df = pd.read_csv('C:/Users/marco.cerliani/OneDrive/Downloads/DATA/QuoteConversion.csv.zip').drop('QuoteNumber', axis=1).sort_values('Original_Quote_Date')\n",
    "df['Original_Quote_Date'] = pd.to_datetime(df.Original_Quote_Date)\n",
    "\n",
    "print(df.shape)\n",
    "df.head()"
   ]
  },
  {
   "cell_type": "code",
   "execution_count": 4,
   "metadata": {},
   "outputs": [
    {
     "data": {
      "text/plain": [
       "<matplotlib.axes._subplots.AxesSubplot at 0x162f094bcc0>"
      ]
     },
     "execution_count": 4,
     "metadata": {},
     "output_type": "execute_result"
    },
    {
     "data": {
      "image/png": "[encoded data removed]",
      "text/plain": [
       "<Figure size 432x432 with 1 Axes>"
      ]
     },
     "metadata": {},
     "output_type": "display_data"
    }
   ],
   "source": [
    "### LABEL DISTRIBUTION ###\n",
    "\n",
    "df.QuoteConversion_Flag.value_counts().plot.pie(figsize=(6,6))"
   ]
  },
  {
   "cell_type": "code",
   "execution_count": 5,
   "metadata": {},
   "outputs": [],
   "source": [
    "### CREATE FUNCTION FOR CATEGORICAL FEATURES ENCODING ###\n",
    "\n",
    "def encode_cat(df):\n",
    "    \n",
    "    cat_col = df.select_dtypes(include='category').columns.tolist() + df.select_dtypes(include='object').columns.tolist()\n",
    "    \n",
    "    for f in cat_col:\n",
    "        lbl = LabelEncoder()\n",
    "        lbl.fit(list(df[f].values))\n",
    "        df[f] = lbl.transform(list(df[f].values))\n",
    "    \n",
    "    return df"
   ]
  },
  {
   "cell_type": "code",
   "execution_count": 6,
   "metadata": {},
   "outputs": [],
   "source": [
    "### ENCODE CATEGORICAL FEATURES AND FILL NAN VALUES ###\n",
    "\n",
    "df = encode_cat(df)\n",
    "df = df.fillna(-999)"
   ]
  },
  {
   "cell_type": "code",
   "execution_count": 7,
   "metadata": {},
   "outputs": [
    {
     "name": "stdout",
     "output_type": "stream",
     "text": [
      "296\n"
     ]
    }
   ],
   "source": [
    "### GET FEATURES NAMES ###\n",
    "\n",
    "features = df.columns.tolist()\n",
    "\n",
    "features.remove('QuoteConversion_Flag')\n",
    "features.remove('Original_Quote_Date')\n",
    "\n",
    "print(len(features))"
   ]
  },
  {
   "cell_type": "code",
   "execution_count": 8,
   "metadata": {},
   "outputs": [],
   "source": [
    "### TEMPORAL TRAIN TEST SPLITTING ###\n",
    "\n",
    "X_train = df[df.Original_Quote_Date <= df.Original_Quote_Date.quantile(0.7)].reset_index(drop=True)\n",
    "y_train = df.QuoteConversion_Flag[df.Original_Quote_Date <= df.Original_Quote_Date.quantile(0.7)].values\n",
    "\n",
    "X_test = df[df.Original_Quote_Date > df.Original_Quote_Date.quantile(0.9)].reset_index(drop=True)\n",
    "y_test = df.QuoteConversion_Flag[df.Original_Quote_Date > df.Original_Quote_Date.quantile(0.9)].values"
   ]
  },
  {
   "cell_type": "code",
   "execution_count": 9,
   "metadata": {},
   "outputs": [],
   "source": [
    "### GET TIME REFERENCE FROM TRAIN ###\n",
    "\n",
    "Time_train = X_train['Original_Quote_Date'].copy().values"
   ]
  },
  {
   "cell_type": "code",
   "execution_count": null,
   "metadata": {},
   "outputs": [],
   "source": []
  },
  {
   "cell_type": "markdown",
   "metadata": {},
   "source": [
    "# BENCHMARK + STRATIFIEDKFOLD"
   ]
  },
  {
   "cell_type": "code",
   "execution_count": 10,
   "metadata": {},
   "outputs": [],
   "source": [
    "### INITIALIZE UTILITY OBJECT AND CROSSVALIDATION SCHEMA ###\n",
    "\n",
    "n_splits = 5\n",
    "\n",
    "yoof = np.zeros(len(X_train))\n",
    "pred = np.zeros(len(X_test))\n",
    "AUC = np.zeros(n_splits)\n",
    "\n",
    "skf = StratifiedKFold(n_splits=n_splits, shuffle=True, random_state=33)"
   ]
  },
  {
   "cell_type": "code",
   "execution_count": 11,
   "metadata": {},
   "outputs": [
    {
     "name": "stdout",
     "output_type": "stream",
     "text": [
      "1 FOLD\n",
      "AUC 0.8377779113880217\n",
      "2 FOLD\n",
      "AUC 0.8363807320379144\n",
      "3 FOLD\n",
      "AUC 0.8372090132197283\n",
      "4 FOLD\n",
      "AUC 0.8411434960901787\n",
      "5 FOLD\n",
      "AUC 0.8369158610014427\n",
      "Wall time: 48.6 s\n"
     ]
    }
   ],
   "source": [
    "%%time\n",
    "### TRAIN MODEL ###\n",
    "\n",
    "for fold, (in_index, oof_index) in enumerate(skf.split(X_train, y_train)):\n",
    "    \n",
    "    print(fold+1, 'FOLD')\n",
    "    \n",
    "    scaler = StandardScaler()\n",
    "    pca = PCA(n_components=50, random_state=42)\n",
    "\n",
    "    y_in, y_oof = y_train[in_index], y_train[oof_index]\n",
    "    \n",
    "    X_in = X_train.loc[in_index, features].copy()\n",
    "    X_in = scaler.fit_transform(X_in)\n",
    "    X_in = pca.fit_transform(X_in)\n",
    "    X_oof = X_train.loc[oof_index, features].copy()\n",
    "    X_oof = scaler.transform(X_oof)\n",
    "    X_oof = pca.transform(X_oof)\n",
    "    \n",
    "    model = LogisticRegression(C=0.1, solver=\"lbfgs\", max_iter=1000)\n",
    "    model.fit(X_in, y_in)\n",
    "    \n",
    "    yoof[oof_index] = model.predict_proba(X_oof)[:,1]\n",
    "    pred += model.predict_proba(\n",
    "        pca.transform(\n",
    "            scaler.transform(X_test[features])\n",
    "        ))[:,1]\n",
    "\n",
    "    print('AUC', roc_auc_score(y_oof, yoof[oof_index]))\n",
    "    AUC[fold] = roc_auc_score(y_oof, yoof[oof_index])  \n",
    "\n",
    "    del model; del pca; del scaler\n",
    "        \n",
    "pred = pred/n_splits"
   ]
  },
  {
   "cell_type": "code",
   "execution_count": 12,
   "metadata": {},
   "outputs": [
    {
     "data": {
      "text/plain": [
       "0.8378854027474573"
      ]
     },
     "execution_count": 12,
     "metadata": {},
     "output_type": "execute_result"
    }
   ],
   "source": [
    "### OOF AUC ###\n",
    "\n",
    "AUC.mean()"
   ]
  },
  {
   "cell_type": "code",
   "execution_count": 13,
   "metadata": {},
   "outputs": [
    {
     "name": "stdout",
     "output_type": "stream",
     "text": [
      "0.7738125542347203\n",
      "              precision    recall  f1-score   support\n",
      "\n",
      "           0       0.86      0.91      0.89     20879\n",
      "           1       0.48      0.36      0.41      4802\n",
      "\n",
      "    accuracy                           0.81     25681\n",
      "   macro avg       0.67      0.63      0.65     25681\n",
      "weighted avg       0.79      0.81      0.80     25681\n",
      "\n"
     ]
    }
   ],
   "source": [
    "print(roc_auc_score(y_test, pred))\n",
    "print(classification_report(y_test, pred>0.5+0))"
   ]
  },
  {
   "cell_type": "code",
   "execution_count": 14,
   "metadata": {},
   "outputs": [
    {
     "data": {
      "image/png": "[encoded data removed]",
      "text/plain": [
       "<Figure size 504x504 with 1 Axes>"
      ]
     },
     "metadata": {
      "needs_background": "light"
     },
     "output_type": "display_data"
    }
   ],
   "source": [
    "cnf_matrix = confusion_matrix(y_test, pred>0.5+0)\n",
    "plt.figure(figsize=(7,7))\n",
    "plot_confusion_matrix(cnf_matrix, classes=np.unique(y_train), title=\"Confusion matrix\")\n",
    "plt.show()"
   ]
  },
  {
   "cell_type": "code",
   "execution_count": null,
   "metadata": {},
   "outputs": [],
   "source": []
  },
  {
   "cell_type": "markdown",
   "metadata": {},
   "source": [
    "# PERMUTATION UNDERSAMPLING + KFOLD NO SHUFFLE"
   ]
  },
  {
   "cell_type": "code",
   "execution_count": 15,
   "metadata": {},
   "outputs": [],
   "source": [
    "### INITIALIZE UTILITY OBJECT AND CROSSVALIDATION SCHEMA ###\n",
    "\n",
    "n_splits = 5\n",
    "\n",
    "seeds = range(3)\n",
    "neg_istances = sum(y_train == 1)\n",
    "pos_istances = sum(y_train == 0)\n",
    "\n",
    "yoof = np.zeros((neg_istances*2, len(seeds)))\n",
    "pred = np.zeros((len(X_test), len(seeds)))\n",
    "AUC = np.zeros(len(seeds))\n",
    "\n",
    "skf = KFold(n_splits=n_splits, shuffle=False)"
   ]
  },
  {
   "cell_type": "code",
   "execution_count": 16,
   "metadata": {},
   "outputs": [
    {
     "name": "stdout",
     "output_type": "stream",
     "text": [
      "1 FOLD --- SEED 0\n",
      "AUC 0.8474660156876177\n",
      "2 FOLD --- SEED 0\n",
      "AUC 0.8634358496165428\n",
      "3 FOLD --- SEED 0\n",
      "AUC 0.851811714868587\n",
      "4 FOLD --- SEED 0\n",
      "AUC 0.8700891850565706\n",
      "5 FOLD --- SEED 0\n",
      "AUC 0.85895261042491\n",
      "1 FOLD --- SEED 1\n",
      "AUC 0.8404916163438287\n",
      "2 FOLD --- SEED 1\n",
      "AUC 0.8563731372984171\n",
      "3 FOLD --- SEED 1\n",
      "AUC 0.8498254570816278\n",
      "4 FOLD --- SEED 1\n",
      "AUC 0.8606583194550836\n",
      "5 FOLD --- SEED 1\n",
      "AUC 0.8501963517002146\n",
      "1 FOLD --- SEED 2\n",
      "AUC 0.8333140112278692\n",
      "2 FOLD --- SEED 2\n",
      "AUC 0.8614063437444183\n",
      "3 FOLD --- SEED 2\n",
      "AUC 0.843633097508726\n",
      "4 FOLD --- SEED 2\n",
      "AUC 0.8579794349941625\n",
      "5 FOLD --- SEED 2\n",
      "AUC 0.849187893340843\n",
      "Wall time: 56.1 s\n"
     ]
    }
   ],
   "source": [
    "%%time\n",
    "### TRAIN MODEL ###\n",
    "\n",
    "for s, seed in enumerate(seeds):\n",
    "    \n",
    "    train_pos = X_train.loc[y_train == 1, features].copy()\n",
    "    train_pos['QuoteConversion_Flag'] = [1]*neg_istances\n",
    "    train_pos['Original_Quote_Date'] = Time_train[y_train == 1]\n",
    "    train_neg = X_train.loc[y_train == 0, features].copy()\n",
    "    train_neg['QuoteConversion_Flag'] = [0]*pos_istances\n",
    "    train_neg['Original_Quote_Date'] = Time_train[y_train == 0]\n",
    "    train_neg = train_neg.sample(neg_istances, random_state=seed) #int(pos_istances*0.2)\n",
    "      \n",
    "    train = pd.concat([train_pos,train_neg]).sort_values('Original_Quote_Date')\n",
    "    y = train.QuoteConversion_Flag.values\n",
    "    train = train.drop(['Original_Quote_Date','QuoteConversion_Flag'], axis=1).reset_index(drop=True)\n",
    "    \n",
    "    for fold, (in_index, oof_index) in enumerate(skf.split(train, y)):\n",
    "        \n",
    "        print(fold+1, 'FOLD --- SEED', seed)\n",
    "        \n",
    "        scaler = StandardScaler()\n",
    "        pca = PCA(n_components=50, random_state=seed)\n",
    "        \n",
    "        y_in, y_oof = y[in_index], y[oof_index]\n",
    "        X_in = train.iloc[in_index, :]\n",
    "        X_in = scaler.fit_transform(X_in)\n",
    "        X_in = pca.fit_transform(X_in)\n",
    "        X_oof = train.iloc[oof_index, :]\n",
    "        X_oof = scaler.transform(X_oof)\n",
    "        X_oof = pca.transform(X_oof)\n",
    "        \n",
    "        model = LogisticRegression(C=0.1, solver=\"lbfgs\", max_iter=1000)\n",
    "        model.fit(X_in, y_in)\n",
    "        \n",
    "        yoof[oof_index,s] = model.predict_proba(X_oof)[:,1]\n",
    "        pred[:,s] += model.predict_proba(\n",
    "                        pca.transform(\n",
    "                            scaler.transform(X_test[features])\n",
    "                        ))[:,1]\n",
    "        \n",
    "        print('AUC', roc_auc_score(y_oof, yoof[oof_index,s]))\n",
    "        AUC[s] += roc_auc_score(y_oof, yoof[oof_index,s])  \n",
    "        \n",
    "        del model; del pca; del scaler\n",
    "        \n",
    "pred = pred/n_splits\n",
    "AUC = AUC/n_splits"
   ]
  },
  {
   "cell_type": "code",
   "execution_count": 17,
   "metadata": {},
   "outputs": [
    {
     "data": {
      "text/plain": [
       "0.8529880692232945"
      ]
     },
     "execution_count": 17,
     "metadata": {},
     "output_type": "execute_result"
    }
   ],
   "source": [
    "### OOF AUC ###\n",
    "\n",
    "AUC.mean()"
   ]
  },
  {
   "cell_type": "code",
   "execution_count": 18,
   "metadata": {},
   "outputs": [
    {
     "name": "stdout",
     "output_type": "stream",
     "text": [
      "0.8181126595658501\n",
      "              precision    recall  f1-score   support\n",
      "\n",
      "           0       0.94      0.65      0.77     20879\n",
      "           1       0.35      0.83      0.49      4802\n",
      "\n",
      "    accuracy                           0.68     25681\n",
      "   macro avg       0.65      0.74      0.63     25681\n",
      "weighted avg       0.83      0.68      0.72     25681\n",
      "\n"
     ]
    }
   ],
   "source": [
    "print(roc_auc_score(y_test, pred.mean(axis=1)))\n",
    "print(classification_report(y_test, pred.mean(axis=1)>0.5+0))"
   ]
  },
  {
   "cell_type": "code",
   "execution_count": 19,
   "metadata": {},
   "outputs": [
    {
     "data": {
      "image/png": "[encoded data removed]",
      "text/plain": [
       "<Figure size 504x504 with 1 Axes>"
      ]
     },
     "metadata": {
      "needs_background": "light"
     },
     "output_type": "display_data"
    }
   ],
   "source": [
    "cnf_matrix = confusion_matrix(y_test, pred.mean(axis=1)>0.5+0)\n",
    "plt.figure(figsize=(7,7))\n",
    "plot_confusion_matrix(cnf_matrix, classes=np.unique(y_train), title=\"Confusion matrix\")\n",
    "plt.show()"
   ]
  },
  {
   "cell_type": "code",
   "execution_count": null,
   "metadata": {},
   "outputs": [],
   "source": []
  }
 ],
 "metadata": {
  "kernelspec": {
   "display_name": "Python 3",
   "language": "python",
   "name": "python3"
  },
  "language_info": {
   "codemirror_mode": {
    "name": "ipython",
    "version": 3
   },
   "file_extension": ".py",
   "mimetype": "text/x-python",
   "name": "python",
   "nbconvert_exporter": "python",
   "pygments_lexer": "ipython3",
   "version": "3.6.6"
  }
 },
 "nbformat": 4,
 "nbformat_minor": 2
}

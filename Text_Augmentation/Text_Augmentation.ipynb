{
 "cells": [
  {
   "cell_type": "code",
   "execution_count": 1,
   "metadata": {},
   "outputs": [],
   "source": [
    "import numpy as np\n",
    "import pandas as pd\n",
    "import matplotlib.pyplot as plt\n",
    "from collections import *\n",
    "import tqdm\n",
    "import string\n",
    "import random\n",
    "import os\n",
    "\n",
    "import tensorflow as tf\n",
    "from tensorflow.keras.layers import *\n",
    "from tensorflow.keras.models import *\n",
    "\n",
    "from sklearn.linear_model import LogisticRegression\n",
    "from sklearn.ensemble import RandomForestClassifier\n",
    "from sklearn.model_selection import train_test_split\n",
    "from sklearn.metrics import recall_score, precision_score, roc_auc_score, f1_score\n",
    "from sklearn.feature_extraction.text import TfidfVectorizer\n",
    "from nltk.corpus import stopwords"
   ]
  },
  {
   "cell_type": "code",
   "execution_count": 2,
   "metadata": {
    "scrolled": true
   },
   "outputs": [
    {
     "name": "stdout",
     "output_type": "stream",
     "text": [
      "(1344, 3)\n"
     ]
    },
    {
     "data": {
      "text/html": [
       "<div>\n",
       "<style scoped>\n",
       "    .dataframe tbody tr th:only-of-type {\n",
       "        vertical-align: middle;\n",
       "    }\n",
       "\n",
       "    .dataframe tbody tr th {\n",
       "        vertical-align: top;\n",
       "    }\n",
       "\n",
       "    .dataframe thead th {\n",
       "        text-align: right;\n",
       "    }\n",
       "</style>\n",
       "<table border=\"1\" class=\"dataframe\">\n",
       "  <thead>\n",
       "    <tr style=\"text-align: right;\">\n",
       "      <th></th>\n",
       "      <th>ride_review</th>\n",
       "      <th>ride_rating</th>\n",
       "      <th>sentiment</th>\n",
       "    </tr>\n",
       "  </thead>\n",
       "  <tbody>\n",
       "    <tr>\n",
       "      <td>0</td>\n",
       "      <td>I completed running New York Marathon requeste...</td>\n",
       "      <td>1.0</td>\n",
       "      <td>0</td>\n",
       "    </tr>\n",
       "    <tr>\n",
       "      <td>1</td>\n",
       "      <td>My appointment time auto repairs required earl...</td>\n",
       "      <td>1.0</td>\n",
       "      <td>0</td>\n",
       "    </tr>\n",
       "    <tr>\n",
       "      <td>2</td>\n",
       "      <td>Whether I using Uber ride service Uber Eats or...</td>\n",
       "      <td>1.0</td>\n",
       "      <td>0</td>\n",
       "    </tr>\n",
       "    <tr>\n",
       "      <td>3</td>\n",
       "      <td>Why hard understand I trying retrieve Uber cab...</td>\n",
       "      <td>1.0</td>\n",
       "      <td>0</td>\n",
       "    </tr>\n",
       "    <tr>\n",
       "      <td>4</td>\n",
       "      <td>I South Beach FL I staying major hotel ordered...</td>\n",
       "      <td>1.0</td>\n",
       "      <td>0</td>\n",
       "    </tr>\n",
       "  </tbody>\n",
       "</table>\n",
       "</div>"
      ],
      "text/plain": [
       "                                         ride_review  ride_rating  sentiment\n",
       "0  I completed running New York Marathon requeste...          1.0          0\n",
       "1  My appointment time auto repairs required earl...          1.0          0\n",
       "2  Whether I using Uber ride service Uber Eats or...          1.0          0\n",
       "3  Why hard understand I trying retrieve Uber cab...          1.0          0\n",
       "4  I South Beach FL I staying major hotel ordered...          1.0          0"
      ]
     },
     "execution_count": 2,
     "metadata": {},
     "output_type": "execute_result"
    }
   ],
   "source": [
    "### READ DATA ###\n",
    "\n",
    "df = pd.read_csv('Uber_Ride_Reviews.csv')\n",
    "\n",
    "print(df.shape)\n",
    "df.head()"
   ]
  },
  {
   "cell_type": "code",
   "execution_count": 3,
   "metadata": {},
   "outputs": [
    {
     "data": {
      "text/plain": [
       "<matplotlib.axes._subplots.AxesSubplot at 0x1ef2c2911c8>"
      ]
     },
     "execution_count": 3,
     "metadata": {},
     "output_type": "execute_result"
    },
    {
     "data": {
      "image/png": "[encoded data removed]",
      "text/plain": [
       "<Figure size 1152x432 with 2 Axes>"
      ]
     },
     "metadata": {
      "needs_background": "light"
     },
     "output_type": "display_data"
    }
   ],
   "source": [
    "### LABEL DISTRIBUTION ###\n",
    "\n",
    "plt.figure(figsize=(16,6))\n",
    "\n",
    "plt.subplot(121)\n",
    "df.ride_rating.value_counts().sort_index().plot.bar(title='Ride Rating Distribution')\n",
    "\n",
    "plt.subplot(122)\n",
    "df.sentiment.value_counts().plot.pie(title='Sentiment Distribution')"
   ]
  },
  {
   "cell_type": "code",
   "execution_count": 4,
   "metadata": {},
   "outputs": [],
   "source": [
    "### REMOVE 3 STARS REVIEWS ###\n",
    "\n",
    "df = df.loc[df.ride_rating!=3, :].reset_index(drop=True)"
   ]
  },
  {
   "cell_type": "code",
   "execution_count": 5,
   "metadata": {},
   "outputs": [],
   "source": [
    "### CLEAN TEXT (NOT REQUIRED) ###\n",
    "\n",
    "df['text'] = df.ride_review.str.lower().str.replace(r'['+string.digits+string.punctuation+']', ' ')"
   ]
  },
  {
   "cell_type": "code",
   "execution_count": 6,
   "metadata": {},
   "outputs": [],
   "source": [
    "### TRAIN TEST SPLIT ###\n",
    "\n",
    "X_train, X_test, y_train, y_test = train_test_split(df['text'], df['sentiment'], random_state=42, test_size=0.2)"
   ]
  },
  {
   "cell_type": "code",
   "execution_count": 7,
   "metadata": {},
   "outputs": [
    {
     "data": {
      "text/plain": [
       "TfidfVectorizer(analyzer='word', binary=False, decode_error='strict',\n",
       "                dtype=<class 'numpy.float64'>, encoding='utf-8',\n",
       "                input='content', lowercase=True, max_df=1.0, max_features=None,\n",
       "                min_df=3, ngram_range=(1, 1), norm='l2', preprocessor=None,\n",
       "                smooth_idf=True,\n",
       "                stop_words={'a', 'about', 'above', 'after', 'again', 'against',\n",
       "                            'ain', 'all', 'am', 'an', 'and', 'any', 'are',\n",
       "                            'aren', \"aren't\", 'as', 'at', 'be', 'because',\n",
       "                            'been', 'before', 'being', 'below', 'between',\n",
       "                            'both', 'but', 'by', 'can', 'couldn', \"couldn't\", ...},\n",
       "                strip_accents=None, sublinear_tf=False,\n",
       "                token_pattern='(?u)\\\\b\\\\w\\\\w+\\\\b', tokenizer=None, use_idf=True,\n",
       "                vocabulary=None)"
      ]
     },
     "execution_count": 7,
     "metadata": {},
     "output_type": "execute_result"
    }
   ],
   "source": [
    "### CREATE FEATURES WITH TFIDF ###\n",
    "\n",
    "stop = set(stopwords.words('english'))\n",
    "tfidf = TfidfVectorizer(min_df=3, stop_words=stop)\n",
    "tfidf.fit(X_train)"
   ]
  },
  {
   "cell_type": "code",
   "execution_count": 8,
   "metadata": {},
   "outputs": [],
   "source": [
    "### REVIEWS LENGTH DISTRIBUTION ON TRAIN ###\n",
    "\n",
    "c = Counter(X_train.apply(lambda x: len(x.split())))\n",
    "lenghts = np.asarray(list(c.keys()))\n",
    "freq = np.asarray(list(c.values()))\n",
    "freq = freq/freq.sum()"
   ]
  },
  {
   "cell_type": "code",
   "execution_count": 9,
   "metadata": {},
   "outputs": [
    {
     "data": {
      "image/png": "[encoded data removed]",
      "text/plain": [
       "<Figure size 648x432 with 1 Axes>"
      ]
     },
     "metadata": {
      "needs_background": "light"
     },
     "output_type": "display_data"
    }
   ],
   "source": [
    "### PLOT REVIEWS LENGTH DISTRIBUTION ON TRAIN ###\n",
    "\n",
    "plt.figure(figsize=(9,6))\n",
    "plt.hist(lenghts, bins=20)\n",
    "np.set_printoptions(False)"
   ]
  },
  {
   "cell_type": "code",
   "execution_count": 10,
   "metadata": {},
   "outputs": [],
   "source": [
    "### DEFINE MARKOV CHAIN GENERATOR ###\n",
    "\n",
    "def build_chain(texts):\n",
    "    \n",
    "    index = 1\n",
    "    chain = {}\n",
    "    \n",
    "    for text in texts:\n",
    "        \n",
    "        text = text.split()\n",
    "        for word in text[index:]:\n",
    "            key = text[index-1]\n",
    "            if key in chain:\n",
    "                chain[key].append(word)\n",
    "            else:\n",
    "                chain[key] = [word]\n",
    "            index += 1\n",
    "        \n",
    "        index = 1\n",
    "    \n",
    "    return chain\n",
    "\n",
    "def create_sentence(chain, lenght, seed):\n",
    "    \n",
    "    np.random.seed(seed)\n",
    "    \n",
    "    start = random.choice(list(chain.keys()))\n",
    "    text = [start]\n",
    "\n",
    "    while len(text) < lenght:\n",
    "        try:\n",
    "            after = random.choice(chain[start])\n",
    "            start = after\n",
    "            text.append(after)\n",
    "        except: #end of the sentence\n",
    "            #text.append('.')\n",
    "            start = random.choice(list(chain.keys()))\n",
    "    \n",
    "    return ' '.join(text)\n",
    "\n",
    "def Generator(x_train, y_train, rep, concat=False, seed=33):\n",
    "    \n",
    "    np.random.seed(seed)\n",
    "    \n",
    "    new_corpus, new_labels = [], []\n",
    "    \n",
    "    for i,lab in enumerate(np.unique(y_train)):\n",
    "\n",
    "        selected = x_train[y_train == lab]\n",
    "        chain = build_chain(selected)\n",
    "\n",
    "        sentences = []\n",
    "        for i in range(rep):\n",
    "            lenght = int(np.random.choice(lenghts, 1, p=freq))\n",
    "            sentences.append(create_sentence(chain, lenght, seed))\n",
    "\n",
    "        new_corpus.extend(sentences)\n",
    "        new_labels.extend([lab]*rep)\n",
    "    \n",
    "    if concat:\n",
    "        return list(x_train) + new_corpus, list(y_train) + new_labels\n",
    "    \n",
    "    return new_corpus, new_labels"
   ]
  },
  {
   "cell_type": "code",
   "execution_count": 11,
   "metadata": {},
   "outputs": [],
   "source": [
    "### AUGMENT TRAIN DATA ###\n",
    "\n",
    "X_train_new, y_train_new = Generator(X_train, y_train, rep=300, concat=True, seed=33)"
   ]
  },
  {
   "cell_type": "code",
   "execution_count": 12,
   "metadata": {},
   "outputs": [
    {
     "data": {
      "text/plain": [
       "0    1195\n",
       "1     440\n",
       "dtype: int64"
      ]
     },
     "execution_count": 12,
     "metadata": {},
     "output_type": "execute_result"
    }
   ],
   "source": [
    "pd.value_counts(y_train_new)"
   ]
  },
  {
   "cell_type": "code",
   "execution_count": 13,
   "metadata": {},
   "outputs": [],
   "source": [
    "### CREATE FAKE TEST DATA ###\n",
    "\n",
    "X_test_new, y_test_new = Generator(X_train, y_train, rep=100, concat=False, seed=42)"
   ]
  },
  {
   "cell_type": "code",
   "execution_count": 14,
   "metadata": {},
   "outputs": [
    {
     "data": {
      "text/plain": [
       "1    100\n",
       "0    100\n",
       "dtype: int64"
      ]
     },
     "execution_count": 14,
     "metadata": {},
     "output_type": "execute_result"
    }
   ],
   "source": [
    "pd.value_counts(y_test_new)"
   ]
  },
  {
   "cell_type": "code",
   "execution_count": 15,
   "metadata": {},
   "outputs": [],
   "source": [
    "### UTILITY FUNCTIONS ###\n",
    "\n",
    "\n",
    "### NN architecture ###\n",
    "def NN():\n",
    "    \n",
    "    nn = Sequential([\n",
    "              Dense(512, activation='relu', input_shape=(len(tfidf.vocabulary_),)),\n",
    "              Dropout(0.2),\n",
    "              Dense(1, activation='sigmoid')\n",
    "         ], name='keras_nn')\n",
    "    \n",
    "    nn.compile(loss='binary_crossentropy', optimizer='adam', metrics=['accuracy'])\n",
    "    \n",
    "    return nn\n",
    "\n",
    "\n",
    "### PERFORMANCE REPORT ###\n",
    "def report_performances(model, y_test, x_test):\n",
    "    \n",
    "    x_test = tfidf.transform(x_test).toarray()\n",
    "    \n",
    "    try: #if keras model\n",
    "        name = nn.name\n",
    "        pred_class = model.predict_classes(x_test).ravel()\n",
    "        pred_proba = model.predict_proba(x_test).ravel()\n",
    "        auc = roc_auc_score(y_test, pred_proba); print('AUC:', auc)\n",
    "        precision = precision_score(y_test, pred_class, average='weighted'); print('PRECISION:', precision)\n",
    "        recall = recall_score(y_test, pred_class, average='weighted'); print('RECALL:', recall)\n",
    "        f1 = f1_score(y_test, pred_class, average='weighted'); print('F1:', f1)\n",
    "        \n",
    "    except: #if sklearn model\n",
    "        pred_class = model.predict(x_test)\n",
    "        pred_proba = model.predict_proba(x_test)[:,1]        \n",
    "        auc = roc_auc_score(y_test, pred_proba); print('AUC:', auc)\n",
    "        precision = precision_score(y_test, pred_class, average='weighted'); print('PRECISION:', precision)\n",
    "        recall = recall_score(y_test, pred_class, average='weighted'); print('RECALL:', recall)\n",
    "        f1 = f1_score(y_test, pred_class, average='weighted'); print('F1', f1)"
   ]
  },
  {
   "cell_type": "code",
   "execution_count": null,
   "metadata": {},
   "outputs": [],
   "source": []
  },
  {
   "cell_type": "markdown",
   "metadata": {},
   "source": [
    "# FIT ON ORIGINAL DATA"
   ]
  },
  {
   "cell_type": "code",
   "execution_count": 16,
   "metadata": {},
   "outputs": [
    {
     "name": "stdout",
     "output_type": "stream",
     "text": [
      "Train on 1035 samples\n",
      "Epoch 1/5\n",
      "WARNING:tensorflow:From C:\\Users\\cerly\\AppData\\Roaming\\Python\\Python37\\site-packages\\tensorflow_core\\python\\ops\\nn_impl.py:183: where (from tensorflow.python.ops.array_ops) is deprecated and will be removed in a future version.\n",
      "Instructions for updating:\n",
      "Use tf.where in 2.0, which has the same broadcast rule as np.where\n",
      "1035/1035 - 1s - loss: 0.4697 - accuracy: 0.8435\n",
      "Epoch 2/5\n",
      "1035/1035 - 0s - loss: 0.2885 - accuracy: 0.8647\n",
      "Epoch 3/5\n",
      "1035/1035 - 0s - loss: 0.2145 - accuracy: 0.8802\n",
      "Epoch 4/5\n",
      "1035/1035 - 0s - loss: 0.1417 - accuracy: 0.9517\n",
      "Epoch 5/5\n",
      "1035/1035 - 0s - loss: 0.0815 - accuracy: 0.9836\n"
     ]
    },
    {
     "data": {
      "text/plain": [
       "<tensorflow.python.keras.callbacks.History at 0x1ef2c9aa988>"
      ]
     },
     "execution_count": 16,
     "metadata": {},
     "output_type": "execute_result"
    }
   ],
   "source": [
    "tf.random.set_seed(33)\n",
    "os.environ['PYTHONHASHSEED'] = str(33)\n",
    "np.random.seed(33)\n",
    "random.seed(33)\n",
    "\n",
    "session_conf = tf.compat.v1.ConfigProto(\n",
    "    intra_op_parallelism_threads=1, \n",
    "    inter_op_parallelism_threads=1\n",
    ")\n",
    "sess = tf.compat.v1.Session(\n",
    "    graph=tf.compat.v1.get_default_graph(), \n",
    "    config=session_conf\n",
    ")\n",
    "tf.compat.v1.keras.backend.set_session(sess)\n",
    "\n",
    "\n",
    "\n",
    "nn = NN()\n",
    "nn.fit(tfidf.transform(X_train).toarray(), np.asarray(y_train), batch_size=32, epochs=5, shuffle=True, verbose=2)"
   ]
  },
  {
   "cell_type": "code",
   "execution_count": 17,
   "metadata": {},
   "outputs": [
    {
     "name": "stdout",
     "output_type": "stream",
     "text": [
      "AUC: 0.9112833763996554\n",
      "PRECISION: 0.8929071270843423\n",
      "RECALL: 0.8957528957528957\n",
      "F1: 0.8813293025213556\n"
     ]
    }
   ],
   "source": [
    "report_performances(nn, y_test, X_test)"
   ]
  },
  {
   "cell_type": "code",
   "execution_count": 18,
   "metadata": {},
   "outputs": [
    {
     "name": "stdout",
     "output_type": "stream",
     "text": [
      "AUC: 0.9922\n",
      "PRECISION: 0.9486339348724669\n",
      "RECALL: 0.945\n",
      "F1: 0.9448883990079913\n"
     ]
    }
   ],
   "source": [
    "report_performances(nn, y_test_new, X_test_new)"
   ]
  },
  {
   "cell_type": "code",
   "execution_count": 19,
   "metadata": {},
   "outputs": [
    {
     "data": {
      "text/plain": [
       "LogisticRegression(C=1.0, class_weight=None, dual=False, fit_intercept=True,\n",
       "                   intercept_scaling=1, l1_ratio=None, max_iter=100,\n",
       "                   multi_class='warn', n_jobs=None, penalty='l2',\n",
       "                   random_state=42, solver='liblinear', tol=0.0001, verbose=0,\n",
       "                   warm_start=False)"
      ]
     },
     "execution_count": 19,
     "metadata": {},
     "output_type": "execute_result"
    }
   ],
   "source": [
    "logi = LogisticRegression(solver='liblinear', random_state=42)\n",
    "\n",
    "logi.fit(tfidf.transform(X_train), y_train)"
   ]
  },
  {
   "cell_type": "code",
   "execution_count": 20,
   "metadata": {},
   "outputs": [
    {
     "name": "stdout",
     "output_type": "stream",
     "text": [
      "AUC: 0.9251722652885442\n",
      "PRECISION: 0.8808604522890237\n",
      "RECALL: 0.861003861003861\n",
      "F1 0.8163112563112562\n"
     ]
    }
   ],
   "source": [
    "report_performances(logi, y_test, X_test)"
   ]
  },
  {
   "cell_type": "code",
   "execution_count": 21,
   "metadata": {},
   "outputs": [
    {
     "name": "stdout",
     "output_type": "stream",
     "text": [
      "AUC: 0.9717\n",
      "PRECISION: 0.7604166666666667\n",
      "RECALL: 0.54\n",
      "F1 0.4165398274987316\n"
     ]
    }
   ],
   "source": [
    "report_performances(logi, y_test_new, X_test_new)"
   ]
  },
  {
   "cell_type": "code",
   "execution_count": 22,
   "metadata": {},
   "outputs": [
    {
     "data": {
      "text/plain": [
       "RandomForestClassifier(bootstrap=True, class_weight=None, criterion='gini',\n",
       "                       max_depth=None, max_features='auto', max_leaf_nodes=None,\n",
       "                       min_impurity_decrease=0.0, min_impurity_split=None,\n",
       "                       min_samples_leaf=1, min_samples_split=2,\n",
       "                       min_weight_fraction_leaf=0.0, n_estimators=100,\n",
       "                       n_jobs=None, oob_score=False, random_state=42, verbose=0,\n",
       "                       warm_start=False)"
      ]
     },
     "execution_count": 22,
     "metadata": {},
     "output_type": "execute_result"
    }
   ],
   "source": [
    "rf = RandomForestClassifier(n_estimators=100, random_state=42)\n",
    "\n",
    "rf.fit(tfidf.transform(X_train), y_train)"
   ]
  },
  {
   "cell_type": "code",
   "execution_count": 23,
   "metadata": {},
   "outputs": [
    {
     "name": "stdout",
     "output_type": "stream",
     "text": [
      "AUC: 0.875484496124031\n",
      "PRECISION: 0.8860215901032228\n",
      "RECALL: 0.8803088803088803\n",
      "F1 0.8536258274812903\n"
     ]
    }
   ],
   "source": [
    "report_performances(rf, y_test, X_test)"
   ]
  },
  {
   "cell_type": "code",
   "execution_count": 24,
   "metadata": {},
   "outputs": [
    {
     "name": "stdout",
     "output_type": "stream",
     "text": [
      "AUC: 0.919\n",
      "PRECISION: 0.7923976608187135\n",
      "RECALL: 0.645\n",
      "F1 0.5938098915872879\n"
     ]
    }
   ],
   "source": [
    "report_performances(rf, y_test_new, X_test_new)"
   ]
  },
  {
   "cell_type": "code",
   "execution_count": null,
   "metadata": {},
   "outputs": [],
   "source": []
  },
  {
   "cell_type": "markdown",
   "metadata": {},
   "source": [
    "# FIT ON ORIGINAL + GENERATED DATA"
   ]
  },
  {
   "cell_type": "code",
   "execution_count": 25,
   "metadata": {},
   "outputs": [
    {
     "name": "stdout",
     "output_type": "stream",
     "text": [
      "Train on 1635 samples\n",
      "Epoch 1/5\n",
      "1635/1635 - 1s - loss: 0.5128 - accuracy: 0.7254\n",
      "Epoch 2/5\n",
      "1635/1635 - 1s - loss: 0.2057 - accuracy: 0.9554\n",
      "Epoch 3/5\n",
      "1635/1635 - 1s - loss: 0.0643 - accuracy: 0.9914\n",
      "Epoch 4/5\n",
      "1635/1635 - 1s - loss: 0.0283 - accuracy: 0.9969\n",
      "Epoch 5/5\n",
      "1635/1635 - 1s - loss: 0.0146 - accuracy: 1.0000\n"
     ]
    },
    {
     "data": {
      "text/plain": [
       "<tensorflow.python.keras.callbacks.History at 0x1ef32045088>"
      ]
     },
     "execution_count": 25,
     "metadata": {},
     "output_type": "execute_result"
    }
   ],
   "source": [
    "tf.random.set_seed(33)\n",
    "os.environ['PYTHONHASHSEED'] = str(33)\n",
    "np.random.seed(33)\n",
    "random.seed(33)\n",
    "\n",
    "session_conf = tf.compat.v1.ConfigProto(\n",
    "    intra_op_parallelism_threads=1, \n",
    "    inter_op_parallelism_threads=1\n",
    ")\n",
    "sess = tf.compat.v1.Session(\n",
    "    graph=tf.compat.v1.get_default_graph(), \n",
    "    config=session_conf\n",
    ")\n",
    "tf.compat.v1.keras.backend.set_session(sess)\n",
    "\n",
    "\n",
    "\n",
    "nn = NN()\n",
    "nn.fit(tfidf.transform(X_train_new).toarray(), np.asarray(y_train_new), batch_size=32, epochs=5, shuffle=True, verbose=2)"
   ]
  },
  {
   "cell_type": "code",
   "execution_count": 26,
   "metadata": {},
   "outputs": [
    {
     "name": "stdout",
     "output_type": "stream",
     "text": [
      "AUC: 0.9151593453919036\n",
      "PRECISION: 0.9092574865107055\n",
      "RECALL: 0.9111969111969112\n",
      "F1: 0.9019385277737171\n"
     ]
    }
   ],
   "source": [
    "report_performances(nn, y_test, X_test)"
   ]
  },
  {
   "cell_type": "code",
   "execution_count": 27,
   "metadata": {},
   "outputs": [
    {
     "name": "stdout",
     "output_type": "stream",
     "text": [
      "AUC: 0.9963000000000001\n",
      "PRECISION: 0.957240478343885\n",
      "RECALL: 0.955\n",
      "F1: 0.9549448073890516\n"
     ]
    }
   ],
   "source": [
    "report_performances(nn, y_test_new, X_test_new)"
   ]
  },
  {
   "cell_type": "code",
   "execution_count": 28,
   "metadata": {},
   "outputs": [
    {
     "data": {
      "text/plain": [
       "LogisticRegression(C=1.0, class_weight=None, dual=False, fit_intercept=True,\n",
       "                   intercept_scaling=1, l1_ratio=None, max_iter=100,\n",
       "                   multi_class='warn', n_jobs=None, penalty='l2',\n",
       "                   random_state=42, solver='liblinear', tol=0.0001, verbose=0,\n",
       "                   warm_start=False)"
      ]
     },
     "execution_count": 28,
     "metadata": {},
     "output_type": "execute_result"
    }
   ],
   "source": [
    "logi = LogisticRegression(solver='liblinear', random_state=42)\n",
    "\n",
    "logi.fit(tfidf.transform(X_train_new), y_train_new)"
   ]
  },
  {
   "cell_type": "code",
   "execution_count": 29,
   "metadata": {},
   "outputs": [
    {
     "name": "stdout",
     "output_type": "stream",
     "text": [
      "AUC: 0.9162360034453059\n",
      "PRECISION: 0.8839746754185257\n",
      "RECALL: 0.8841698841698842\n",
      "F1 0.8623611134528165\n"
     ]
    }
   ],
   "source": [
    "report_performances(logi, y_test, X_test)"
   ]
  },
  {
   "cell_type": "code",
   "execution_count": 30,
   "metadata": {},
   "outputs": [
    {
     "name": "stdout",
     "output_type": "stream",
     "text": [
      "AUC: 0.9791\n",
      "PRECISION: 0.8571428571428572\n",
      "RECALL: 0.8\n",
      "F1 0.7916666666666665\n"
     ]
    }
   ],
   "source": [
    "report_performances(logi, y_test_new, X_test_new)"
   ]
  },
  {
   "cell_type": "code",
   "execution_count": 31,
   "metadata": {},
   "outputs": [
    {
     "data": {
      "text/plain": [
       "RandomForestClassifier(bootstrap=True, class_weight=None, criterion='gini',\n",
       "                       max_depth=None, max_features='auto', max_leaf_nodes=None,\n",
       "                       min_impurity_decrease=0.0, min_impurity_split=None,\n",
       "                       min_samples_leaf=1, min_samples_split=2,\n",
       "                       min_weight_fraction_leaf=0.0, n_estimators=100,\n",
       "                       n_jobs=None, oob_score=False, random_state=42, verbose=0,\n",
       "                       warm_start=False)"
      ]
     },
     "execution_count": 31,
     "metadata": {},
     "output_type": "execute_result"
    }
   ],
   "source": [
    "rf = RandomForestClassifier(n_estimators=100, random_state=42)\n",
    "\n",
    "rf.fit(tfidf.transform(X_train_new), y_train_new)"
   ]
  },
  {
   "cell_type": "code",
   "execution_count": 32,
   "metadata": {},
   "outputs": [
    {
     "name": "stdout",
     "output_type": "stream",
     "text": [
      "AUC: 0.8628337639965546\n",
      "PRECISION: 0.8755630037870272\n",
      "RECALL: 0.8841698841698842\n",
      "F1 0.869182479801949\n"
     ]
    }
   ],
   "source": [
    "report_performances(rf, y_test, X_test)"
   ]
  },
  {
   "cell_type": "code",
   "execution_count": 33,
   "metadata": {},
   "outputs": [
    {
     "name": "stdout",
     "output_type": "stream",
     "text": [
      "AUC: 0.9371\n",
      "PRECISION: 0.83921302578019\n",
      "RECALL: 0.8\n",
      "F1 0.7940479868190713\n"
     ]
    }
   ],
   "source": [
    "report_performances(rf, y_test_new, X_test_new)"
   ]
  },
  {
   "cell_type": "code",
   "execution_count": null,
   "metadata": {},
   "outputs": [],
   "source": []
  }
 ],
 "metadata": {
  "kernelspec": {
   "display_name": "Python 3",
   "language": "python",
   "name": "python3"
  },
  "language_info": {
   "codemirror_mode": {
    "name": "ipython",
    "version": 3
   },
   "file_extension": ".py",
   "mimetype": "text/x-python",
   "name": "python",
   "nbconvert_exporter": "python",
   "pygments_lexer": "ipython3",
   "version": "3.7.4"
  }
 },
 "nbformat": 4,
 "nbformat_minor": 2
}

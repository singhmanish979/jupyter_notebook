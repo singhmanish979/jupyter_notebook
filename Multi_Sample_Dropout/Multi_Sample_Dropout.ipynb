{
 "cells": [
  {
   "cell_type": "code",
   "execution_count": 1,
   "metadata": {},
   "outputs": [],
   "source": [
    "import numpy as np\n",
    "import pandas as pd\n",
    "import matplotlib.pyplot as plt\n",
    "from collections import *\n",
    "import string\n",
    "import itertools\n",
    "\n",
    "import tensorflow as tf\n",
    "from tensorflow.keras.preprocessing.text import Tokenizer\n",
    "from tensorflow.keras.preprocessing.sequence import pad_sequences\n",
    "from tensorflow.keras.layers import *\n",
    "from tensorflow.keras.models import *\n",
    "from tensorflow.keras.callbacks import *\n",
    "from tensorflow.keras.utils import *\n",
    "import tensorflow.keras.backend as K\n",
    "\n",
    "from sklearn.model_selection import train_test_split\n",
    "from sklearn.metrics import classification_report, confusion_matrix"
   ]
  },
  {
   "cell_type": "code",
   "execution_count": 2,
   "metadata": {},
   "outputs": [],
   "source": [
    "def plot_confusion_matrix(cm, classes, title='Confusion matrix', cmap=plt.cm.Blues):\n",
    "\n",
    "    cm = cm.astype('float') / cm.sum(axis=1)[:, np.newaxis]\n",
    "\n",
    "    plt.imshow(cm, interpolation='nearest', cmap=cmap)\n",
    "    plt.title(title, fontsize=25)\n",
    "    #plt.colorbar()\n",
    "    tick_marks = np.arange(len(classes))\n",
    "    plt.xticks(tick_marks, classes, rotation=90, fontsize=15)\n",
    "    plt.yticks(tick_marks, classes, fontsize=15)\n",
    "\n",
    "    fmt = '.2f'\n",
    "    thresh = cm.max() / 2.\n",
    "    for i, j in itertools.product(range(cm.shape[0]), range(cm.shape[1])):\n",
    "        plt.text(j, i, format(cm[i, j], fmt),\n",
    "                 horizontalalignment=\"center\",\n",
    "                 color=\"white\" if cm[i, j] > thresh else \"black\", fontsize = 14)\n",
    "\n",
    "    plt.ylabel('True label', fontsize=20)\n",
    "    plt.xlabel('Predicted label', fontsize=20)"
   ]
  },
  {
   "cell_type": "code",
   "execution_count": 3,
   "metadata": {},
   "outputs": [
    {
     "name": "stdout",
     "output_type": "stream",
     "text": [
      "(28619, 3)\n"
     ]
    },
    {
     "data": {
      "text/html": [
       "<div>\n",
       "<style scoped>\n",
       "    .dataframe tbody tr th:only-of-type {\n",
       "        vertical-align: middle;\n",
       "    }\n",
       "\n",
       "    .dataframe tbody tr th {\n",
       "        vertical-align: top;\n",
       "    }\n",
       "\n",
       "    .dataframe thead th {\n",
       "        text-align: right;\n",
       "    }\n",
       "</style>\n",
       "<table border=\"1\" class=\"dataframe\">\n",
       "  <thead>\n",
       "    <tr style=\"text-align: right;\">\n",
       "      <th></th>\n",
       "      <th>is_sarcastic</th>\n",
       "      <th>headline</th>\n",
       "      <th>article_link</th>\n",
       "    </tr>\n",
       "  </thead>\n",
       "  <tbody>\n",
       "    <tr>\n",
       "      <td>0</td>\n",
       "      <td>1</td>\n",
       "      <td>thirtysomething scientists unveil doomsday clo...</td>\n",
       "      <td>https://www.theonion.com/thirtysomething-scien...</td>\n",
       "    </tr>\n",
       "    <tr>\n",
       "      <td>1</td>\n",
       "      <td>0</td>\n",
       "      <td>dem rep. totally nails why congress is falling...</td>\n",
       "      <td>https://www.huffingtonpost.com/entry/donna-edw...</td>\n",
       "    </tr>\n",
       "    <tr>\n",
       "      <td>2</td>\n",
       "      <td>0</td>\n",
       "      <td>eat your veggies: 9 deliciously different recipes</td>\n",
       "      <td>https://www.huffingtonpost.com/entry/eat-your-...</td>\n",
       "    </tr>\n",
       "    <tr>\n",
       "      <td>3</td>\n",
       "      <td>1</td>\n",
       "      <td>inclement weather prevents liar from getting t...</td>\n",
       "      <td>https://local.theonion.com/inclement-weather-p...</td>\n",
       "    </tr>\n",
       "    <tr>\n",
       "      <td>4</td>\n",
       "      <td>1</td>\n",
       "      <td>mother comes pretty close to using word 'strea...</td>\n",
       "      <td>https://www.theonion.com/mother-comes-pretty-c...</td>\n",
       "    </tr>\n",
       "  </tbody>\n",
       "</table>\n",
       "</div>"
      ],
      "text/plain": [
       "   is_sarcastic                                           headline  \\\n",
       "0             1  thirtysomething scientists unveil doomsday clo...   \n",
       "1             0  dem rep. totally nails why congress is falling...   \n",
       "2             0  eat your veggies: 9 deliciously different recipes   \n",
       "3             1  inclement weather prevents liar from getting t...   \n",
       "4             1  mother comes pretty close to using word 'strea...   \n",
       "\n",
       "                                        article_link  \n",
       "0  https://www.theonion.com/thirtysomething-scien...  \n",
       "1  https://www.huffingtonpost.com/entry/donna-edw...  \n",
       "2  https://www.huffingtonpost.com/entry/eat-your-...  \n",
       "3  https://local.theonion.com/inclement-weather-p...  \n",
       "4  https://www.theonion.com/mother-comes-pretty-c...  "
      ]
     },
     "execution_count": 3,
     "metadata": {},
     "output_type": "execute_result"
    }
   ],
   "source": [
    "### READ DATA ###\n",
    "\n",
    "df = pd.read_json('Sarcasm_Headlines_Dataset_v2.json.zip', lines=True)\n",
    "diz_label = {0:'sarcastic', 1:'not sarcastic'}\n",
    "\n",
    "print(df.shape)\n",
    "df.head()"
   ]
  },
  {
   "cell_type": "code",
   "execution_count": 4,
   "metadata": {},
   "outputs": [
    {
     "data": {
      "text/plain": [
       "<matplotlib.axes._subplots.AxesSubplot at 0x1e3ffd7d898>"
      ]
     },
     "execution_count": 4,
     "metadata": {},
     "output_type": "execute_result"
    },
    {
     "data": {
      "image/png": "[encoded data removed]",
      "text/plain": [
       "<Figure size 432x432 with 1 Axes>"
      ]
     },
     "metadata": {},
     "output_type": "display_data"
    }
   ],
   "source": [
    "### PLOT LABEL DISTRIBUTION ###\n",
    "\n",
    "df.is_sarcastic.map(diz_label).value_counts().plot.pie(figsize=(6,6))"
   ]
  },
  {
   "cell_type": "code",
   "execution_count": 5,
   "metadata": {},
   "outputs": [],
   "source": [
    "### CLEAN TEXT ###\n",
    "\n",
    "df['headline'] = df.headline.str.lower().str.replace(r'['+string.digits+string.punctuation+']', ' ')\n",
    "df['headline'] = df.headline.str.split()"
   ]
  },
  {
   "cell_type": "code",
   "execution_count": 6,
   "metadata": {},
   "outputs": [],
   "source": [
    "### TRAIN TEST SPLIT ###\n",
    "\n",
    "y = to_categorical(df.is_sarcastic.factorize()[0])\n",
    "\n",
    "X_train, X_test, y_train, y_test = train_test_split(df['headline'], y, random_state=33, test_size=0.2)"
   ]
  },
  {
   "cell_type": "code",
   "execution_count": 7,
   "metadata": {},
   "outputs": [
    {
     "name": "stdout",
     "output_type": "stream",
     "text": [
      "23601 7496\n"
     ]
    }
   ],
   "source": [
    "### HOW MANY WORDS WITH LESS THEN 3 OCCURENCIES? ###\n",
    "\n",
    "c = Counter(' '.join(X_train.str.join(' ')).split())\n",
    "word = np.asarray(list(c.keys()))\n",
    "freq = np.asarray(list(c.values()))\n",
    "\n",
    "print(len(word), len(word[freq > 3]))"
   ]
  },
  {
   "cell_type": "code",
   "execution_count": 8,
   "metadata": {},
   "outputs": [
    {
     "name": "stdout",
     "output_type": "stream",
     "text": [
      "(22895, 100) (5724, 100)\n"
     ]
    }
   ],
   "source": [
    "### TOKENIZE AND PAD SENTENCES ###\n",
    "\n",
    "max_words = len(word[freq > 3]); max_len = 100\n",
    "\n",
    "tokenizer = Tokenizer(num_words=max_words, lower=True)\n",
    "tokenizer.fit_on_texts(X_train)\n",
    "\n",
    "sequence_train = tokenizer.texts_to_sequences(X_train)\n",
    "sequence_train = pad_sequences(sequence_train, maxlen=max_len)\n",
    "\n",
    "sequence_test = tokenizer.texts_to_sequences(X_test)\n",
    "sequence_test = pad_sequences(sequence_test, maxlen=max_len)\n",
    "\n",
    "sequence_train = np.asarray(sequence_train)\n",
    "sequence_test = np.asarray(sequence_test)\n",
    "\n",
    "print(sequence_train.shape, sequence_test.shape)"
   ]
  },
  {
   "cell_type": "code",
   "execution_count": 9,
   "metadata": {},
   "outputs": [],
   "source": [
    "### DEFINE MODEL WITH MULTI-SAMPLE DROPOUT ###\n",
    "\n",
    "def get_model(num):\n",
    "\n",
    "    inp = Input(shape=(max_len,))\n",
    "    emb = Embedding(len(tokenizer.word_index) + 1, 64)(inp)\n",
    "    x = SpatialDropout1D(0.2)(emb)\n",
    "    x = GRU(128, return_sequences=True, activation='relu')(x)\n",
    "    out = GRU(32, activation='relu')(x)\n",
    "    \n",
    "    dense = []\n",
    "    FC = Dense(32, activation='relu')\n",
    "    for p in np.linspace(0.1,0.5, num):\n",
    "        x = Dropout(p)(out)\n",
    "        x = FC(x)\n",
    "        x = Dense(y_train.shape[1], activation='softmax')(x)\n",
    "        dense.append(x)\n",
    "    \n",
    "    out = Average()(dense)\n",
    "    model = Model(inp, out)\n",
    "    model.compile(loss='categorical_crossentropy', \n",
    "                  optimizer='adam', metrics=['accuracy'])\n",
    "    \n",
    "    return model"
   ]
  },
  {
   "cell_type": "code",
   "execution_count": 10,
   "metadata": {},
   "outputs": [
    {
     "name": "stdout",
     "output_type": "stream",
     "text": [
      "Model: \"model\"\n",
      "__________________________________________________________________________________________________\n",
      "Layer (type)                    Output Shape         Param #     Connected to                     \n",
      "==================================================================================================\n",
      "input_1 (InputLayer)            [(None, 100)]        0                                            \n",
      "__________________________________________________________________________________________________\n",
      "embedding (Embedding)           (None, 100, 64)      1510528     input_1[0][0]                    \n",
      "__________________________________________________________________________________________________\n",
      "spatial_dropout1d (SpatialDropo (None, 100, 64)      0           embedding[0][0]                  \n",
      "__________________________________________________________________________________________________\n",
      "gru (GRU)                       (None, 100, 128)     74496       spatial_dropout1d[0][0]          \n",
      "__________________________________________________________________________________________________\n",
      "gru_1 (GRU)                     (None, 32)           15552       gru[0][0]                        \n",
      "__________________________________________________________________________________________________\n",
      "dropout (Dropout)               (None, 32)           0           gru_1[0][0]                      \n",
      "__________________________________________________________________________________________________\n",
      "dropout_1 (Dropout)             (None, 32)           0           gru_1[0][0]                      \n",
      "__________________________________________________________________________________________________\n",
      "dropout_2 (Dropout)             (None, 32)           0           gru_1[0][0]                      \n",
      "__________________________________________________________________________________________________\n",
      "dense (Dense)                   (None, 32)           1056        dropout[0][0]                    \n",
      "                                                                 dropout_1[0][0]                  \n",
      "                                                                 dropout_2[0][0]                  \n",
      "__________________________________________________________________________________________________\n",
      "dense_1 (Dense)                 (None, 2)            66          dense[0][0]                      \n",
      "__________________________________________________________________________________________________\n",
      "dense_2 (Dense)                 (None, 2)            66          dense[1][0]                      \n",
      "__________________________________________________________________________________________________\n",
      "dense_3 (Dense)                 (None, 2)            66          dense[2][0]                      \n",
      "__________________________________________________________________________________________________\n",
      "average (Average)               (None, 2)            0           dense_1[0][0]                    \n",
      "                                                                 dense_2[0][0]                    \n",
      "                                                                 dense_3[0][0]                    \n",
      "==================================================================================================\n",
      "Total params: 1,601,830\n",
      "Trainable params: 1,601,830\n",
      "Non-trainable params: 0\n",
      "__________________________________________________________________________________________________\n"
     ]
    }
   ],
   "source": [
    "model = get_model(3)\n",
    "model.summary()"
   ]
  },
  {
   "cell_type": "code",
   "execution_count": 11,
   "metadata": {},
   "outputs": [
    {
     "name": "stdout",
     "output_type": "stream",
     "text": [
      "Train on 20605 samples, validate on 2290 samples\n",
      "Epoch 1/50\n",
      "WARNING:tensorflow:From C:\\Users\\marco.cerliani\\AppData\\Local\\Continuum\\anaconda3\\lib\\site-packages\\tensorflow_core\\python\\ops\\math_grad.py:1394: where (from tensorflow.python.ops.array_ops) is deprecated and will be removed in a future version.\n",
      "Instructions for updating:\n",
      "Use tf.where in 2.0, which has the same broadcast rule as np.where\n",
      "20605/20605 - 66s - loss: 0.6766 - accuracy: 0.5307 - val_loss: 0.5703 - val_accuracy: 0.7664\n",
      "Epoch 2/50\n",
      "20605/20605 - 69s - loss: 0.4938 - accuracy: 0.8114 - val_loss: 0.3747 - val_accuracy: 0.8424\n",
      "Epoch 3/50\n",
      "20605/20605 - 69s - loss: 0.2932 - accuracy: 0.8831 - val_loss: 0.3293 - val_accuracy: 0.8629\n",
      "Epoch 4/50\n",
      "20605/20605 - 72s - loss: 0.2201 - accuracy: 0.9172 - val_loss: 0.3573 - val_accuracy: 0.8594\n",
      "Epoch 5/50\n",
      "20605/20605 - 73s - loss: 0.1720 - accuracy: 0.9389 - val_loss: 0.4001 - val_accuracy: 0.8533\n",
      "Epoch 6/50\n",
      "20605/20605 - 80s - loss: 0.1396 - accuracy: 0.9514 - val_loss: 0.4664 - val_accuracy: 0.8524\n",
      "Epoch 7/50\n",
      "20605/20605 - 78s - loss: 0.1206 - accuracy: 0.9597 - val_loss: 0.4893 - val_accuracy: 0.8463\n",
      "Epoch 8/50\n",
      "20605/20605 - 74s - loss: 0.1033 - accuracy: 0.9653 - val_loss: 0.5076 - val_accuracy: 0.8454\n",
      "Epoch 9/50\n",
      "20605/20605 - 77s - loss: 0.0887 - accuracy: 0.9700 - val_loss: 0.6266 - val_accuracy: 0.8485\n",
      "Epoch 10/50\n",
      "20605/20605 - 76s - loss: 0.0732 - accuracy: 0.9766 - val_loss: 0.6554 - val_accuracy: 0.8480\n",
      "Epoch 11/50\n",
      "20605/20605 - 83s - loss: 0.0634 - accuracy: 0.9799 - val_loss: 0.7089 - val_accuracy: 0.8472\n",
      "Epoch 12/50\n",
      "20605/20605 - 97s - loss: 0.0549 - accuracy: 0.9835 - val_loss: 0.7797 - val_accuracy: 0.8424\n",
      "Epoch 13/50\n",
      "Restoring model weights from the end of the best epoch.\n",
      "20605/20605 - 83s - loss: 0.0513 - accuracy: 0.9832 - val_loss: 0.7630 - val_accuracy: 0.8528\n",
      "Epoch 00013: early stopping\n"
     ]
    }
   ],
   "source": [
    "es = EarlyStopping(monitor='val_loss', mode='auto', restore_best_weights=True, verbose=1, patience=10)\n",
    "\n",
    "model = get_model(3)\n",
    "history = model.fit(sequence_train, y_train, batch_size=512, epochs=50, \n",
    "                    verbose=2, validation_split=0.1, callbacks=[es])"
   ]
  },
  {
   "cell_type": "code",
   "execution_count": 12,
   "metadata": {},
   "outputs": [],
   "source": [
    "### GET PREDICTED CLASS ###\n",
    "\n",
    "pred_test = np.argmax(model.predict(sequence_test), axis=1)"
   ]
  },
  {
   "cell_type": "code",
   "execution_count": 13,
   "metadata": {},
   "outputs": [
    {
     "name": "stdout",
     "output_type": "stream",
     "text": [
      "               precision    recall  f1-score   support\n",
      "\n",
      "not sarcastic       0.87      0.83      0.85      3017\n",
      "    sarcastic       0.82      0.86      0.84      2707\n",
      "\n",
      "     accuracy                           0.84      5724\n",
      "    macro avg       0.84      0.84      0.84      5724\n",
      " weighted avg       0.84      0.84      0.84      5724\n",
      "\n"
     ]
    }
   ],
   "source": [
    "print(classification_report([diz_label[np.argmax(label)] for label in y_test], \n",
    "                            [diz_label[label] for label in pred_test]))"
   ]
  },
  {
   "cell_type": "code",
   "execution_count": 14,
   "metadata": {},
   "outputs": [
    {
     "data": {
      "image/png": "[encoded data removed]",
      "text/plain": [
       "<Figure size 504x504 with 1 Axes>"
      ]
     },
     "metadata": {
      "needs_background": "light"
     },
     "output_type": "display_data"
    }
   ],
   "source": [
    "cnf_matrix = confusion_matrix([diz_label[np.argmax(label)] for label in y_test], \n",
    "                              [diz_label[label] for label in pred_test])\n",
    "\n",
    "plt.figure(figsize=(7,7))\n",
    "plot_confusion_matrix(cnf_matrix, classes=list(diz_label.values()))\n",
    "plt.show()"
   ]
  },
  {
   "cell_type": "code",
   "execution_count": null,
   "metadata": {},
   "outputs": [],
   "source": []
  }
 ],
 "metadata": {
  "kernelspec": {
   "display_name": "Python 3",
   "language": "python",
   "name": "python3"
  },
  "language_info": {
   "codemirror_mode": {
    "name": "ipython",
    "version": 3
   },
   "file_extension": ".py",
   "mimetype": "text/x-python",
   "name": "python",
   "nbconvert_exporter": "python",
   "pygments_lexer": "ipython3",
   "version": "3.6.6"
  }
 },
 "nbformat": 4,
 "nbformat_minor": 2
}
